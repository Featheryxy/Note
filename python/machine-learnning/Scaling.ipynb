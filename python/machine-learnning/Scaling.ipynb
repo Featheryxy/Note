{
 "cells": [
  {
   "cell_type": "markdown",
   "metadata": {},
   "source": [
    "### 数据标准化处理"
   ]
  },
  {
   "cell_type": "code",
   "execution_count": 1,
   "metadata": {},
   "outputs": [],
   "source": [
    "import numpy as np\n",
    "import matplotlib.pyplot as plt"
   ]
  },
  {
   "cell_type": "markdown",
   "metadata": {},
   "source": [
    "#### 最值归一化 Normalization"
   ]
  },
  {
   "cell_type": "code",
   "execution_count": 2,
   "metadata": {},
   "outputs": [
    {
     "data": {
      "text/plain": [
       "array([ 6, 86,  4, 86,  0, 37, 82, 81, 27, 18, 83, 29, 91, 46, 65, 49, 20,\n",
       "       80, 62, 39,  4, 79, 94, 72, 33, 42, 68, 76, 22,  1, 11, 53,  2, 50,\n",
       "       79, 16, 37, 38, 32, 60, 55, 40, 15, 85, 71, 30, 42, 10, 88, 16, 25,\n",
       "        3, 26, 15,  5,  5,  2, 77, 63, 73, 71, 45, 52, 99, 65, 52, 49,  6,\n",
       "       20, 15, 13, 77,  4, 38,  5, 58, 44, 51, 40, 57,  1, 92, 65,  1, 98,\n",
       "       79, 28, 59, 95, 60, 41, 17, 88, 78, 59, 49, 54, 28, 79, 33])"
      ]
     },
     "execution_count": 2,
     "metadata": {},
     "output_type": "execute_result"
    }
   ],
   "source": [
    "x = np.random.randint(0, 100, 100)\n",
    "x"
   ]
  },
  {
   "cell_type": "code",
   "execution_count": 3,
   "metadata": {},
   "outputs": [
    {
     "data": {
      "text/plain": [
       "array([0.06060606, 0.86868687, 0.04040404, 0.86868687, 0.        ,\n",
       "       0.37373737, 0.82828283, 0.81818182, 0.27272727, 0.18181818,\n",
       "       0.83838384, 0.29292929, 0.91919192, 0.46464646, 0.65656566,\n",
       "       0.49494949, 0.2020202 , 0.80808081, 0.62626263, 0.39393939,\n",
       "       0.04040404, 0.7979798 , 0.94949495, 0.72727273, 0.33333333,\n",
       "       0.42424242, 0.68686869, 0.76767677, 0.22222222, 0.01010101,\n",
       "       0.11111111, 0.53535354, 0.02020202, 0.50505051, 0.7979798 ,\n",
       "       0.16161616, 0.37373737, 0.38383838, 0.32323232, 0.60606061,\n",
       "       0.55555556, 0.4040404 , 0.15151515, 0.85858586, 0.71717172,\n",
       "       0.3030303 , 0.42424242, 0.1010101 , 0.88888889, 0.16161616,\n",
       "       0.25252525, 0.03030303, 0.26262626, 0.15151515, 0.05050505,\n",
       "       0.05050505, 0.02020202, 0.77777778, 0.63636364, 0.73737374,\n",
       "       0.71717172, 0.45454545, 0.52525253, 1.        , 0.65656566,\n",
       "       0.52525253, 0.49494949, 0.06060606, 0.2020202 , 0.15151515,\n",
       "       0.13131313, 0.77777778, 0.04040404, 0.38383838, 0.05050505,\n",
       "       0.58585859, 0.44444444, 0.51515152, 0.4040404 , 0.57575758,\n",
       "       0.01010101, 0.92929293, 0.65656566, 0.01010101, 0.98989899,\n",
       "       0.7979798 , 0.28282828, 0.5959596 , 0.95959596, 0.60606061,\n",
       "       0.41414141, 0.17171717, 0.88888889, 0.78787879, 0.5959596 ,\n",
       "       0.49494949, 0.54545455, 0.28282828, 0.7979798 , 0.33333333])"
      ]
     },
     "execution_count": 3,
     "metadata": {},
     "output_type": "execute_result"
    }
   ],
   "source": [
    "(x-np.min(x))/(np.max(x)-np.min(x))"
   ]
  },
  {
   "cell_type": "code",
   "execution_count": 20,
   "metadata": {
    "scrolled": true
   },
   "outputs": [],
   "source": [
    "X = np.random.randint(0, 100, (50, 2))\n",
    "X.dtype = np.float32"
   ]
  },
  {
   "cell_type": "code",
   "execution_count": 21,
   "metadata": {},
   "outputs": [],
   "source": [
    "X[:,0] = (X[:,0] - np.min(X[:,0])) / (np.max(X[:,0]) - np.min(X[:,0]))\n",
    "X[:,1] = (X[:,1] - np.min(X[:,1])) / (np.max(X[:,1]) - np.min(X[:,1]))"
   ]
  },
  {
   "cell_type": "code",
   "execution_count": 23,
   "metadata": {},
   "outputs": [
    {
     "data": {
      "text/plain": [
       "array([[0.93877554, 0.1632653 ],\n",
       "       [0.31632653, 0.67346936],\n",
       "       [0.7346939 , 0.9489796 ],\n",
       "       [0.24489796, 0.9897959 ],\n",
       "       [0.39795917, 0.40816328],\n",
       "       [0.29591838, 0.19387755],\n",
       "       [0.53061223, 0.70408165],\n",
       "       [0.04081633, 1.        ],\n",
       "       [0.74489796, 0.97959185],\n",
       "       [0.8877551 , 0.85714287]], dtype=float32)"
      ]
     },
     "execution_count": 23,
     "metadata": {},
     "output_type": "execute_result"
    }
   ],
   "source": [
    "X[:10]"
   ]
  },
  {
   "cell_type": "code",
   "execution_count": 25,
   "metadata": {},
   "outputs": [
    {
     "data": {
      "text/plain": [
       "<matplotlib.collections.PathCollection at 0x22b10619048>"
      ]
     },
     "execution_count": 25,
     "metadata": {},
     "output_type": "execute_result"
    },
    {
     "data": {
      "image/png": "[encoded data removed]",
      "text/plain": [
       "<Figure size 432x288 with 1 Axes>"
      ]
     },
     "metadata": {},
     "output_type": "display_data"
    }
   ],
   "source": [
    "plt.scatter(X[:, 0], X[:, 1])"
   ]
  },
  {
   "cell_type": "markdown",
   "metadata": {},
   "source": [
    "#### 均值方差归一化 Standardization"
   ]
  },
  {
   "cell_type": "code",
   "execution_count": 28,
   "metadata": {},
   "outputs": [
    {
     "data": {
      "text/plain": [
       "array([[30., 94.],\n",
       "       [45., 63.],\n",
       "       [69., 19.],\n",
       "       [30., 17.],\n",
       "       [82., 12.],\n",
       "       [91., 48.],\n",
       "       [10., 28.],\n",
       "       [68., 19.],\n",
       "       [36., 88.],\n",
       "       [79., 89.]])"
      ]
     },
     "execution_count": 28,
     "metadata": {},
     "output_type": "execute_result"
    }
   ],
   "source": [
    "X2 = np.random.randint(0, 100, (50, 2))\n",
    "X2 = np.array(X2, dtype=float)\n",
    "X2[:10, :]"
   ]
  },
  {
   "cell_type": "code",
   "execution_count": 29,
   "metadata": {},
   "outputs": [],
   "source": [
    "X2[:, 0] = (X2[:, 0] - np.mean(X2[:, 0])) / np.std(X2[:, 0])\n",
    "X2[:,1] = (X2[:,1] - np.mean(X2[:,1])) / np.std(X2[:,1])"
   ]
  },
  {
   "cell_type": "code",
   "execution_count": 30,
   "metadata": {},
   "outputs": [
    {
     "data": {
      "image/png": "[encoded data removed]",
      "text/plain": [
       "<Figure size 432x288 with 1 Axes>"
      ]
     },
     "metadata": {},
     "output_type": "display_data"
    }
   ],
   "source": [
    "plt.scatter(X2[:,0], X2[:,1])\n",
    "plt.show()"
   ]
  },
  {
   "cell_type": "markdown",
   "metadata": {},
   "source": [
    "### Scikit-learn中的Scaler"
   ]
  },
  {
   "cell_type": "code",
   "execution_count": 31,
   "metadata": {},
   "outputs": [
    {
     "data": {
      "text/plain": [
       "array([[5.1, 3.5, 1.4, 0.2],\n",
       "       [4.9, 3. , 1.4, 0.2],\n",
       "       [4.7, 3.2, 1.3, 0.2],\n",
       "       [4.6, 3.1, 1.5, 0.2],\n",
       "       [5. , 3.6, 1.4, 0.2],\n",
       "       [5.4, 3.9, 1.7, 0.4],\n",
       "       [4.6, 3.4, 1.4, 0.3],\n",
       "       [5. , 3.4, 1.5, 0.2],\n",
       "       [4.4, 2.9, 1.4, 0.2],\n",
       "       [4.9, 3.1, 1.5, 0.1]])"
      ]
     },
     "execution_count": 31,
     "metadata": {},
     "output_type": "execute_result"
    }
   ],
   "source": [
    "import numpy as np\n",
    "from sklearn import datasets\n",
    "\n",
    "iris = datasets.load_iris()\n",
    "X = iris.data\n",
    "y = iris.target\n",
    "X[:10,:]"
   ]
  },
  {
   "cell_type": "code",
   "execution_count": 32,
   "metadata": {},
   "outputs": [],
   "source": [
    "from sklearn.model_selection import train_test_split\n",
    "X_train, X_test, y_train, y_test = train_test_split(iris.data, iris.target, test_size=0.2, random_state=666)"
   ]
  },
  {
   "cell_type": "markdown",
   "metadata": {},
   "source": [
    "### scikit-learn中的StandardScaler"
   ]
  },
  {
   "cell_type": "code",
   "execution_count": 33,
   "metadata": {},
   "outputs": [
    {
     "data": {
      "text/plain": [
       "StandardScaler(copy=True, with_mean=True, with_std=True)"
      ]
     },
     "execution_count": 33,
     "metadata": {},
     "output_type": "execute_result"
    }
   ],
   "source": [
    "from sklearn.preprocessing import StandardScaler \n",
    "\n",
    "standardScalar = StandardScaler() \n",
    "standardScalar.fit(X_train)"
   ]
  },
  {
   "cell_type": "code",
   "execution_count": 34,
   "metadata": {},
   "outputs": [
    {
     "data": {
      "text/plain": [
       "array([5.83416667, 3.0825    , 3.70916667, 1.16916667])"
      ]
     },
     "execution_count": 34,
     "metadata": {},
     "output_type": "execute_result"
    }
   ],
   "source": [
    "standardScalar.mean_"
   ]
  },
  {
   "cell_type": "code",
   "execution_count": 35,
   "metadata": {},
   "outputs": [
    {
     "data": {
      "text/plain": [
       "array([0.81019502, 0.44076874, 1.76295187, 0.75429833])"
      ]
     },
     "execution_count": 35,
     "metadata": {},
     "output_type": "execute_result"
    }
   ],
   "source": [
    "standardScalar.scale_"
   ]
  },
  {
   "cell_type": "code",
   "execution_count": 36,
   "metadata": {},
   "outputs": [
    {
     "data": {
      "text/plain": [
       "['__class__',\n",
       " '__delattr__',\n",
       " '__dict__',\n",
       " '__dir__',\n",
       " '__doc__',\n",
       " '__eq__',\n",
       " '__format__',\n",
       " '__ge__',\n",
       " '__getattribute__',\n",
       " '__getstate__',\n",
       " '__gt__',\n",
       " '__hash__',\n",
       " '__init__',\n",
       " '__init_subclass__',\n",
       " '__le__',\n",
       " '__lt__',\n",
       " '__module__',\n",
       " '__ne__',\n",
       " '__new__',\n",
       " '__reduce__',\n",
       " '__reduce_ex__',\n",
       " '__repr__',\n",
       " '__setattr__',\n",
       " '__setstate__',\n",
       " '__sizeof__',\n",
       " '__str__',\n",
       " '__subclasshook__',\n",
       " '__weakref__',\n",
       " '_get_param_names',\n",
       " '_reset',\n",
       " 'copy',\n",
       " 'fit',\n",
       " 'fit_transform',\n",
       " 'get_params',\n",
       " 'inverse_transform',\n",
       " 'mean_',\n",
       " 'n_samples_seen_',\n",
       " 'partial_fit',\n",
       " 'scale_',\n",
       " 'set_params',\n",
       " 'transform',\n",
       " 'var_',\n",
       " 'with_mean',\n",
       " 'with_std']"
      ]
     },
     "execution_count": 36,
     "metadata": {},
     "output_type": "execute_result"
    }
   ],
   "source": [
    "dir(standardScalar)"
   ]
  },
  {
   "cell_type": "code",
   "execution_count": 37,
   "metadata": {},
   "outputs": [
    {
     "data": {
      "text/plain": [
       "array([[-0.90616043,  0.94720873, -1.30982967, -1.28485856],\n",
       "       [-1.15301457, -0.18717298, -1.30982967, -1.28485856],\n",
       "       [-0.16559799, -0.64092567,  0.22169257,  0.17345038],\n",
       "       [ 0.45153738,  0.72033239,  0.95909217,  1.49918578],\n",
       "       [-0.90616043, -1.3215547 , -0.40226093, -0.0916967 ],\n",
       "       [ 1.43895396,  0.2665797 ,  0.56203085,  0.30602392],\n",
       "       [ 0.3281103 , -1.09467835,  1.07253826,  0.30602392],\n",
       "       [ 2.1795164 , -0.18717298,  1.63976872,  1.2340387 ],\n",
       "       [-0.78273335,  2.30846679, -1.25310662, -1.4174321 ],\n",
       "       [ 0.45153738, -2.00218372,  0.44858475,  0.43859746],\n",
       "       [ 1.80923518, -0.41404933,  1.46959958,  0.83631808],\n",
       "       [ 0.69839152,  0.2665797 ,  0.90236912,  1.49918578],\n",
       "       [ 0.20468323,  0.72033239,  0.44858475,  0.571171  ],\n",
       "       [-0.78273335, -0.86780201,  0.10824648,  0.30602392],\n",
       "       [-0.53587921,  1.40096142, -1.25310662, -1.28485856],\n",
       "       [-0.65930628,  1.40096142, -1.25310662, -1.28485856],\n",
       "       [-1.0295875 ,  0.94720873, -1.19638358, -0.7545644 ],\n",
       "       [-1.77014994, -0.41404933, -1.30982967, -1.28485856],\n",
       "       [-0.04217092, -0.86780201,  0.10824648,  0.04087684],\n",
       "       [-0.78273335,  0.72033239, -1.30982967, -1.28485856],\n",
       "       [-1.52329579,  0.72033239, -1.30982967, -1.15228502],\n",
       "       [ 0.82181859,  0.2665797 ,  0.78892303,  1.10146516],\n",
       "       [-0.16559799, -0.41404933,  0.27841562,  0.17345038],\n",
       "       [ 0.94524567, -0.18717298,  0.39186171,  0.30602392],\n",
       "       [ 0.20468323, -0.41404933,  0.44858475,  0.43859746],\n",
       "       [-1.39986872,  0.2665797 , -1.19638358, -1.28485856],\n",
       "       [-1.15301457,  0.03970336, -1.25310662, -1.4174321 ],\n",
       "       [ 1.06867274,  0.03970336,  1.07253826,  1.63175932],\n",
       "       [ 0.57496445, -0.86780201,  0.67547694,  0.83631808],\n",
       "       [ 0.3281103 , -0.64092567,  0.56203085,  0.04087684],\n",
       "       [ 0.45153738, -0.64092567,  0.61875389,  0.83631808],\n",
       "       [-0.16559799,  2.98909581, -1.25310662, -1.01971148],\n",
       "       [ 0.57496445, -1.3215547 ,  0.67547694,  0.43859746],\n",
       "       [ 0.69839152, -0.41404933,  0.33513866,  0.17345038],\n",
       "       [-0.90616043,  1.62783776, -1.02621444, -1.01971148],\n",
       "       [ 1.19209981, -0.64092567,  0.61875389,  0.30602392],\n",
       "       [-0.90616043,  0.94720873, -1.30982967, -1.15228502],\n",
       "       [-1.89357701, -0.18717298, -1.47999881, -1.4174321 ],\n",
       "       [ 0.08125616, -0.18717298,  0.78892303,  0.83631808],\n",
       "       [ 0.69839152, -0.64092567,  1.07253826,  1.2340387 ],\n",
       "       [-0.28902506, -0.64092567,  0.67547694,  1.10146516],\n",
       "       [-0.41245214, -1.54843104, -0.00519961, -0.22427024],\n",
       "       [ 1.31552689,  0.03970336,  0.67547694,  0.43859746],\n",
       "       [ 0.57496445,  0.72033239,  1.07253826,  1.63175932],\n",
       "       [ 0.82181859, -0.18717298,  1.18598435,  1.36661224],\n",
       "       [-0.16559799,  1.62783776, -1.13966053, -1.15228502],\n",
       "       [ 0.94524567, -0.41404933,  0.5053078 ,  0.17345038],\n",
       "       [ 1.06867274,  0.49345605,  1.12926131,  1.76433286],\n",
       "       [-1.27644165, -0.18717298, -1.30982967, -1.4174321 ],\n",
       "       [-1.0295875 ,  1.17408507, -1.30982967, -1.28485856],\n",
       "       [ 0.20468323, -0.18717298,  0.61875389,  0.83631808],\n",
       "       [-1.0295875 , -0.18717298, -1.19638358, -1.28485856],\n",
       "       [ 0.3281103 , -0.18717298,  0.67547694,  0.83631808],\n",
       "       [ 0.69839152,  0.03970336,  1.01581521,  0.83631808],\n",
       "       [-0.90616043,  1.40096142, -1.25310662, -1.01971148],\n",
       "       [-0.16559799, -0.18717298,  0.27841562,  0.04087684],\n",
       "       [-1.0295875 ,  0.94720873, -1.36655271, -1.15228502],\n",
       "       [-0.90616043,  1.62783776, -1.25310662, -1.15228502],\n",
       "       [-1.52329579,  0.2665797 , -1.30982967, -1.28485856],\n",
       "       [-0.53587921, -0.18717298,  0.44858475,  0.43859746],\n",
       "       [ 0.82181859, -0.64092567,  0.5053078 ,  0.43859746],\n",
       "       [ 0.3281103 , -0.64092567,  0.16496953,  0.17345038],\n",
       "       [-1.27644165,  0.72033239, -1.19638358, -1.28485856],\n",
       "       [-0.90616043,  0.49345605, -1.13966053, -0.88713794],\n",
       "       [-0.04217092, -0.86780201,  0.78892303,  0.96889162],\n",
       "       [-0.28902506, -0.18717298,  0.22169257,  0.17345038],\n",
       "       [ 0.57496445, -0.64092567,  0.78892303,  0.43859746],\n",
       "       [ 1.06867274,  0.49345605,  1.12926131,  1.2340387 ],\n",
       "       [ 1.68580811, -0.18717298,  1.18598435,  0.571171  ],\n",
       "       [ 1.06867274, -0.18717298,  0.84564608,  1.49918578],\n",
       "       [-1.15301457,  0.03970336, -1.25310662, -1.4174321 ],\n",
       "       [-1.15301457, -1.3215547 ,  0.44858475,  0.70374454],\n",
       "       [-0.16559799, -1.3215547 ,  0.73219998,  1.10146516],\n",
       "       [-1.15301457, -1.54843104, -0.2320918 , -0.22427024],\n",
       "       [-0.41245214, -1.54843104,  0.05152343, -0.0916967 ],\n",
       "       [ 1.06867274, -1.3215547 ,  1.18598435,  0.83631808],\n",
       "       [ 0.82181859, -0.18717298,  1.01581521,  0.83631808],\n",
       "       [-0.16559799, -1.09467835, -0.1186457 , -0.22427024],\n",
       "       [ 0.20468323, -2.00218372,  0.73219998,  0.43859746],\n",
       "       [ 1.06867274,  0.03970336,  0.56203085,  0.43859746],\n",
       "       [-1.15301457,  0.03970336, -1.25310662, -1.4174321 ],\n",
       "       [ 0.57496445, -1.3215547 ,  0.73219998,  0.96889162],\n",
       "       [-1.39986872,  0.2665797 , -1.36655271, -1.28485856],\n",
       "       [ 0.20468323, -0.86780201,  0.78892303,  0.571171  ],\n",
       "       [-0.04217092, -1.09467835,  0.16496953,  0.04087684],\n",
       "       [ 1.31552689,  0.2665797 ,  1.12926131,  1.49918578],\n",
       "       [-1.77014994, -0.18717298, -1.36655271, -1.28485856],\n",
       "       [ 1.56238103, -0.18717298,  1.2427074 ,  1.2340387 ],\n",
       "       [ 1.19209981,  0.2665797 ,  1.2427074 ,  1.49918578],\n",
       "       [-0.78273335,  0.94720873, -1.25310662, -1.28485856],\n",
       "       [ 2.54979762,  1.62783776,  1.52632263,  1.10146516],\n",
       "       [ 0.69839152, -0.64092567,  1.07253826,  1.36661224],\n",
       "       [-0.28902506, -0.41404933, -0.06192266,  0.17345038],\n",
       "       [-0.41245214,  2.53534313, -1.30982967, -1.28485856],\n",
       "       [-1.27644165, -0.18717298, -1.30982967, -1.15228502],\n",
       "       [ 0.57496445, -0.41404933,  1.07253826,  0.83631808],\n",
       "       [-1.77014994,  0.2665797 , -1.36655271, -1.28485856],\n",
       "       [-0.53587921,  1.8547141 , -1.13966053, -1.01971148],\n",
       "       [-1.0295875 ,  0.72033239, -1.19638358, -1.01971148],\n",
       "       [ 1.06867274, -0.18717298,  0.73219998,  0.70374454],\n",
       "       [-0.53587921,  1.8547141 , -1.36655271, -1.01971148],\n",
       "       [ 2.30294347, -0.64092567,  1.69649176,  1.10146516],\n",
       "       [-0.28902506, -0.86780201,  0.27841562,  0.17345038],\n",
       "       [ 1.19209981, -0.18717298,  1.01581521,  1.2340387 ],\n",
       "       [-0.41245214,  0.94720873, -1.36655271, -1.28485856],\n",
       "       [-1.27644165,  0.72033239, -1.02621444, -1.28485856],\n",
       "       [-0.53587921,  0.72033239, -1.13966053, -1.28485856],\n",
       "       [ 2.30294347,  1.62783776,  1.69649176,  1.36661224],\n",
       "       [ 1.31552689,  0.03970336,  0.95909217,  1.2340387 ],\n",
       "       [-0.28902506, -1.3215547 ,  0.10824648, -0.0916967 ],\n",
       "       [-0.90616043,  0.72033239, -1.25310662, -1.28485856],\n",
       "       [-0.90616043,  1.62783776, -1.19638358, -1.28485856],\n",
       "       [ 0.3281103 , -0.41404933,  0.56203085,  0.30602392],\n",
       "       [-0.04217092,  2.08159044, -1.42327576, -1.28485856],\n",
       "       [-1.0295875 , -2.45593641, -0.1186457 , -0.22427024],\n",
       "       [ 0.69839152,  0.2665797 ,  0.44858475,  0.43859746],\n",
       "       [ 0.3281103 , -0.18717298,  0.5053078 ,  0.30602392],\n",
       "       [ 0.08125616,  0.2665797 ,  0.61875389,  0.83631808],\n",
       "       [ 0.20468323, -2.00218372,  0.16496953, -0.22427024],\n",
       "       [ 1.93266225, -0.64092567,  1.35615349,  0.96889162]])"
      ]
     },
     "execution_count": 37,
     "metadata": {},
     "output_type": "execute_result"
    }
   ],
   "source": [
    "standardScalar.transform(X_train)"
   ]
  },
  {
   "cell_type": "code",
   "execution_count": 38,
   "metadata": {},
   "outputs": [
    {
     "data": {
      "text/plain": [
       "array([[5.1, 3.5, 1.4, 0.2],\n",
       "       [4.9, 3. , 1.4, 0.2],\n",
       "       [5.7, 2.8, 4.1, 1.3],\n",
       "       [6.2, 3.4, 5.4, 2.3],\n",
       "       [5.1, 2.5, 3. , 1.1],\n",
       "       [7. , 3.2, 4.7, 1.4],\n",
       "       [6.1, 2.6, 5.6, 1.4],\n",
       "       [7.6, 3. , 6.6, 2.1],\n",
       "       [5.2, 4.1, 1.5, 0.1],\n",
       "       [6.2, 2.2, 4.5, 1.5]])"
      ]
     },
     "execution_count": 38,
     "metadata": {},
     "output_type": "execute_result"
    }
   ],
   "source": [
    "X_train[:10,:]"
   ]
  },
  {
   "cell_type": "code",
   "execution_count": 39,
   "metadata": {},
   "outputs": [],
   "source": [
    "X_test_standard = standardScalar.transform(X_test) "
   ]
  },
  {
   "cell_type": "code",
   "execution_count": 40,
   "metadata": {},
   "outputs": [
    {
     "data": {
      "text/plain": [
       "array([[-0.28902506, -0.18717298,  0.44858475,  0.43859746],\n",
       "       [-0.04217092, -0.64092567,  0.78892303,  1.63175932],\n",
       "       [-1.0295875 , -1.77530738, -0.2320918 , -0.22427024],\n",
       "       [-0.04217092, -0.86780201,  0.78892303,  0.96889162],\n",
       "       [-1.52329579,  0.03970336, -1.25310662, -1.28485856],\n",
       "       [-0.41245214, -1.3215547 ,  0.16496953,  0.17345038],\n",
       "       [-0.16559799, -0.64092567,  0.44858475,  0.17345038],\n",
       "       [ 0.82181859, -0.18717298,  0.84564608,  1.10146516],\n",
       "       [ 0.57496445, -1.77530738,  0.39186171,  0.17345038],\n",
       "       [-0.41245214, -1.09467835,  0.39186171,  0.04087684]])"
      ]
     },
     "execution_count": 40,
     "metadata": {},
     "output_type": "execute_result"
    }
   ],
   "source": [
    "X_test_standard[:10,:]"
   ]
  },
  {
   "cell_type": "markdown",
   "metadata": {},
   "source": [
    "### 使用归一化后的数据进行knn分类"
   ]
  },
  {
   "cell_type": "code",
   "execution_count": 41,
   "metadata": {},
   "outputs": [
    {
     "data": {
      "text/plain": [
       "array([[5.1, 3.5, 1.4, 0.2],\n",
       "       [4.9, 3. , 1.4, 0.2],\n",
       "       [5.7, 2.8, 4.1, 1.3],\n",
       "       [6.2, 3.4, 5.4, 2.3],\n",
       "       [5.1, 2.5, 3. , 1.1],\n",
       "       [7. , 3.2, 4.7, 1.4],\n",
       "       [6.1, 2.6, 5.6, 1.4],\n",
       "       [7.6, 3. , 6.6, 2.1],\n",
       "       [5.2, 4.1, 1.5, 0.1],\n",
       "       [6.2, 2.2, 4.5, 1.5],\n",
       "       [7.3, 2.9, 6.3, 1.8],\n",
       "       [6.4, 3.2, 5.3, 2.3],\n",
       "       [6. , 3.4, 4.5, 1.6],\n",
       "       [5.2, 2.7, 3.9, 1.4],\n",
       "       [5.4, 3.7, 1.5, 0.2],\n",
       "       [5.3, 3.7, 1.5, 0.2],\n",
       "       [5. , 3.5, 1.6, 0.6],\n",
       "       [4.4, 2.9, 1.4, 0.2],\n",
       "       [5.8, 2.7, 3.9, 1.2],\n",
       "       [5.2, 3.4, 1.4, 0.2],\n",
       "       [4.6, 3.4, 1.4, 0.3],\n",
       "       [6.5, 3.2, 5.1, 2. ],\n",
       "       [5.7, 2.9, 4.2, 1.3],\n",
       "       [6.6, 3. , 4.4, 1.4],\n",
       "       [6. , 2.9, 4.5, 1.5],\n",
       "       [4.7, 3.2, 1.6, 0.2],\n",
       "       [4.9, 3.1, 1.5, 0.1],\n",
       "       [6.7, 3.1, 5.6, 2.4],\n",
       "       [6.3, 2.7, 4.9, 1.8],\n",
       "       [6.1, 2.8, 4.7, 1.2],\n",
       "       [6.2, 2.8, 4.8, 1.8],\n",
       "       [5.7, 4.4, 1.5, 0.4],\n",
       "       [6.3, 2.5, 4.9, 1.5],\n",
       "       [6.4, 2.9, 4.3, 1.3],\n",
       "       [5.1, 3.8, 1.9, 0.4],\n",
       "       [6.8, 2.8, 4.8, 1.4],\n",
       "       [5.1, 3.5, 1.4, 0.3],\n",
       "       [4.3, 3. , 1.1, 0.1],\n",
       "       [5.9, 3. , 5.1, 1.8],\n",
       "       [6.4, 2.8, 5.6, 2.1],\n",
       "       [5.6, 2.8, 4.9, 2. ],\n",
       "       [5.5, 2.4, 3.7, 1. ],\n",
       "       [6.9, 3.1, 4.9, 1.5],\n",
       "       [6.3, 3.4, 5.6, 2.4],\n",
       "       [6.5, 3. , 5.8, 2.2],\n",
       "       [5.7, 3.8, 1.7, 0.3],\n",
       "       [6.6, 2.9, 4.6, 1.3],\n",
       "       [6.7, 3.3, 5.7, 2.5],\n",
       "       [4.8, 3. , 1.4, 0.1],\n",
       "       [5. , 3.6, 1.4, 0.2],\n",
       "       [6. , 3. , 4.8, 1.8],\n",
       "       [5. , 3. , 1.6, 0.2],\n",
       "       [6.1, 3. , 4.9, 1.8],\n",
       "       [6.4, 3.1, 5.5, 1.8],\n",
       "       [5.1, 3.7, 1.5, 0.4],\n",
       "       [5.7, 3. , 4.2, 1.2],\n",
       "       [5. , 3.5, 1.3, 0.3],\n",
       "       [5.1, 3.8, 1.5, 0.3],\n",
       "       [4.6, 3.2, 1.4, 0.2],\n",
       "       [5.4, 3. , 4.5, 1.5],\n",
       "       [6.5, 2.8, 4.6, 1.5],\n",
       "       [6.1, 2.8, 4. , 1.3],\n",
       "       [4.8, 3.4, 1.6, 0.2],\n",
       "       [5.1, 3.3, 1.7, 0.5],\n",
       "       [5.8, 2.7, 5.1, 1.9],\n",
       "       [5.6, 3. , 4.1, 1.3],\n",
       "       [6.3, 2.8, 5.1, 1.5],\n",
       "       [6.7, 3.3, 5.7, 2.1],\n",
       "       [7.2, 3. , 5.8, 1.6],\n",
       "       [6.7, 3. , 5.2, 2.3],\n",
       "       [4.9, 3.1, 1.5, 0.1],\n",
       "       [4.9, 2.5, 4.5, 1.7],\n",
       "       [5.7, 2.5, 5. , 2. ],\n",
       "       [4.9, 2.4, 3.3, 1. ],\n",
       "       [5.5, 2.4, 3.8, 1.1],\n",
       "       [6.7, 2.5, 5.8, 1.8],\n",
       "       [6.5, 3. , 5.5, 1.8],\n",
       "       [5.7, 2.6, 3.5, 1. ],\n",
       "       [6. , 2.2, 5. , 1.5],\n",
       "       [6.7, 3.1, 4.7, 1.5],\n",
       "       [4.9, 3.1, 1.5, 0.1],\n",
       "       [6.3, 2.5, 5. , 1.9],\n",
       "       [4.7, 3.2, 1.3, 0.2],\n",
       "       [6. , 2.7, 5.1, 1.6],\n",
       "       [5.8, 2.6, 4. , 1.2],\n",
       "       [6.9, 3.2, 5.7, 2.3],\n",
       "       [4.4, 3. , 1.3, 0.2],\n",
       "       [7.1, 3. , 5.9, 2.1],\n",
       "       [6.8, 3.2, 5.9, 2.3],\n",
       "       [5.2, 3.5, 1.5, 0.2],\n",
       "       [7.9, 3.8, 6.4, 2. ],\n",
       "       [6.4, 2.8, 5.6, 2.2],\n",
       "       [5.6, 2.9, 3.6, 1.3],\n",
       "       [5.5, 4.2, 1.4, 0.2],\n",
       "       [4.8, 3. , 1.4, 0.3],\n",
       "       [6.3, 2.9, 5.6, 1.8],\n",
       "       [4.4, 3.2, 1.3, 0.2],\n",
       "       [5.4, 3.9, 1.7, 0.4],\n",
       "       [5. , 3.4, 1.6, 0.4],\n",
       "       [6.7, 3. , 5. , 1.7],\n",
       "       [5.4, 3.9, 1.3, 0.4],\n",
       "       [7.7, 2.8, 6.7, 2. ],\n",
       "       [5.6, 2.7, 4.2, 1.3],\n",
       "       [6.8, 3. , 5.5, 2.1],\n",
       "       [5.5, 3.5, 1.3, 0.2],\n",
       "       [4.8, 3.4, 1.9, 0.2],\n",
       "       [5.4, 3.4, 1.7, 0.2],\n",
       "       [7.7, 3.8, 6.7, 2.2],\n",
       "       [6.9, 3.1, 5.4, 2.1],\n",
       "       [5.6, 2.5, 3.9, 1.1],\n",
       "       [5.1, 3.4, 1.5, 0.2],\n",
       "       [5.1, 3.8, 1.6, 0.2],\n",
       "       [6.1, 2.9, 4.7, 1.4],\n",
       "       [5.8, 4. , 1.2, 0.2],\n",
       "       [5. , 2. , 3.5, 1. ],\n",
       "       [6.4, 3.2, 4.5, 1.5],\n",
       "       [6.1, 3. , 4.6, 1.4],\n",
       "       [5.9, 3.2, 4.8, 1.8],\n",
       "       [6. , 2.2, 4. , 1. ],\n",
       "       [7.4, 2.8, 6.1, 1.9]])"
      ]
     },
     "execution_count": 41,
     "metadata": {},
     "output_type": "execute_result"
    }
   ],
   "source": []
  },
  {
   "cell_type": "code",
   "execution_count": null,
   "metadata": {},
   "outputs": [],
   "source": []
  }
 ],
 "metadata": {
  "kernelspec": {
   "display_name": "Python 3",
   "language": "python",
   "name": "python3"
  },
  "language_info": {
   "codemirror_mode": {
    "name": "ipython",
    "version": 3
   },
   "file_extension": ".py",
   "mimetype": "text/x-python",
   "name": "python",
   "nbconvert_exporter": "python",
   "pygments_lexer": "ipython3",
   "version": "3.6.5"
  }
 },
 "nbformat": 4,
 "nbformat_minor": 2
}
