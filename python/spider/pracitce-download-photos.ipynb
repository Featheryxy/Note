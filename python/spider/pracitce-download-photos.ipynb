{
 "cells": [
  {
   "cell_type": "code",
   "execution_count": 17,
   "metadata": {},
   "outputs": [],
   "source": [
    "import string\n",
    "import requests\n",
    "from bs4 import BeautifulSoup"
   ]
  },
  {
   "cell_type": "code",
   "execution_count": 22,
   "metadata": {},
   "outputs": [
    {
     "name": "stdout",
     "output_type": "stream",
     "text": [
      "Saved  img/a1.jpg\n",
      "Saved  img/a2.jpg\n",
      "Saved  img/a3.jpg\n",
      "Saved  img/a4.jpg\n",
      "Saved  img/a5.jpg\n",
      "Saved  img/a6.jpg\n",
      "Saved  img/a7.jpg\n",
      "Saved  img/a8.jpg\n",
      "Saved  img/a9.jpg\n",
      "Saved  img/a10.jpg\n",
      "Saved  img/a11.jpg\n",
      "Saved  img/a12.jpg\n",
      "Saved  img/a13.jpg\n",
      "Saved  img/a14.jpg\n",
      "Saved  img/a15.jpg\n",
      "Saved  img/a16.jpg\n",
      "Saved  img/a17.jpg\n",
      "Saved  img/a18.jpg\n",
      "Saved  img/a19.jpg\n",
      "Saved  img/a20.jpg\n",
      "Saved  img/a21.jpg\n",
      "Saved  img/a22.jpg\n",
      "Saved  img/a23.jpg\n",
      "Saved  img/a24.jpg\n",
      "Saved  img/a25.jpg\n",
      "Saved  img/a26.jpg\n",
      "Saved  img/a27.jpg\n",
      "Saved  img/a28.jpg\n",
      "Saved  img/a29.jpg\n",
      "Saved  img/a30.jpg\n",
      "Saved  img/a31.jpg\n",
      "Saved  img/a32.jpg\n",
      "Saved  img/a33.jpg\n",
      "Saved  img/a34.jpg\n",
      "Saved  img/a35.jpg\n",
      "Saved  img/a36.jpg\n",
      "Saved  img/a37.jpg\n",
      "Saved  img/a38.jpg\n",
      "Saved  img/a39.jpg\n",
      "Saved  img/a40.jpg\n",
      "Saved  img/a41.jpg\n",
      "Saved  img/a42.jpg\n",
      "Saved  img/a43.jpg\n",
      "Saved  img/a44.jpg\n",
      "Saved  img/a45.jpg\n",
      "Saved  img/a46.jpg\n",
      "Saved  img/a47.jpg\n",
      "Saved  img/a48.jpg\n",
      "Saved  img/a49.jpg\n",
      "Saved  img/a50.jpg\n"
     ]
    }
   ],
   "source": [
    "url = 'http://www.ngchina.com.cn/animals/'\n",
    "r = requests.get(url)\n",
    "html = r.text\n",
    "\n",
    "soup = BeautifulSoup(html, 'lxml')\n",
    "img_urls = soup.findAll('img')\n",
    "img_urls = [img_url['src'] for img_url in img_urls]\n",
    "\n",
    "i = 1\n",
    "for img in img_urls:\n",
    "    if not img.startswith('http'):\n",
    "        continue\n",
    "    r = requests.get(img, stream=True)\n",
    "    path = 'img/a' + str(i) + '.jpg'\n",
    "    i = i + 1\n",
    "    with open(path, 'wb') as f:\n",
    "        for chunk in r.iter_content(chunk_size=128):\n",
    "            f.write(chunk)\n",
    "    print('Saved ', path)"
   ]
  },
  {
   "cell_type": "code",
   "execution_count": 19,
   "metadata": {},
   "outputs": [
    {
     "name": "stdout",
     "output_type": "stream",
     "text": [
      "1\n",
      "3\n",
      "5\n",
      "7\n",
      "9\n"
     ]
    }
   ],
   "source": [
    "for i in range(10):\n",
    "    if i % 2 == 0:\n",
    "        continue\n",
    "    print(i)"
   ]
  },
  {
   "cell_type": "code",
   "execution_count": null,
   "metadata": {},
   "outputs": [],
   "source": []
  }
 ],
 "metadata": {
  "kernelspec": {
   "display_name": "Python 3",
   "language": "python",
   "name": "python3"
  },
  "language_info": {
   "codemirror_mode": {
    "name": "ipython",
    "version": 3
   },
   "file_extension": ".py",
   "mimetype": "text/x-python",
   "name": "python",
   "nbconvert_exporter": "python",
   "pygments_lexer": "ipython3",
   "version": "3.6.5"
  },
  "widgets": {
   "state": {},
   "version": "1.1.2"
  }
 },
 "nbformat": 4,
 "nbformat_minor": 2
}
