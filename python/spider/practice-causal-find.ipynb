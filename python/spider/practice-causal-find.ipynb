{
 "cells": [
  {
   "cell_type": "code",
   "execution_count": 1,
   "metadata": {},
   "outputs": [],
   "source": [
    "from bs4 import BeautifulSoup\n",
    "from urllib.request import urlopen\n",
    "import re\n",
    "import random"
   ]
  },
  {
   "cell_type": "code",
   "execution_count": 16,
   "metadata": {},
   "outputs": [
    {
     "name": "stdout",
     "output_type": "stream",
     "text": [
      "Python  url:  /item/Python/407313\n",
      "/item/%E8%A7%A3%E9%87%8A%E5%99%A8\n",
      "字节码  url:  /item/%E5%AD%97%E8%8A%82%E7%A0%81\n",
      "/item/%E5%AD%97%E8%8A%82\n",
      "数据  url:  /item/%E6%95%B0%E6%8D%AE\n",
      "/item/%E4%BF%A1%E6%81%AF\n",
      "信息  url:  /item/%E4%BF%A1%E6%81%AF\n",
      "/item/%E6%B6%88%E9%99%A4\n",
      "计算机  url:  /item/%E8%AE%A1%E7%AE%97%E6%9C%BA\n",
      "/item/%E7%A3%81%E8%8A%AF\n",
      "调制解调器  url:  /item/%E8%B0%83%E5%88%B6%E8%A7%A3%E8%B0%83%E5%99%A8\n",
      "/item/%E4%BC%A0%E8%BE%93%E5%8D%8F%E8%AE%AE\n",
      "磁盘  url:  /item/%E7%A3%81%E7%9B%98\n",
      "/item/%E9%94%AE%E5%80%BC\n",
      "东芝  url:  /item/%E4%B8%9C%E8%8A%9D\n",
      "/item/%E7%94%B5%E4%BF%A1%E4%B8%9A\n",
      "中央处理器  url:  /item/%E5%A4%84%E7%90%86%E5%99%A8\n",
      "/item/%E5%A4%84%E7%90%86%E5%99%A8\n",
      "运算速度  url:  /item/%E8%BF%90%E7%AE%97%E9%80%9F%E5%BA%A6\n",
      "/item/%E5%9C%B0%E7%90%83%E6%A8%A1%E6%8B%9F%E5%99%A8\n",
      "计算机  url:  /item/%E8%AE%A1%E7%AE%97%E6%9C%BA\n",
      "/item/%E6%8F%92%E6%A7%BD\n",
      "英尺  url:  /item/%E8%8B%B1%E5%B0%BA\n",
      "/item/%E4%B8%B9%E9%BA%A6\n",
      "计量单位  url:  /item/%E8%AE%A1%E9%87%8F%E5%8D%95%E4%BD%8D\n",
      "/item/%E5%B9%B3%E6%96%B9%E5%8E%98%E7%B1%B3\n",
      "毫米  url:  /item/%E6%AF%AB%E7%B1%B3\n",
      "/item/%E4%B8%BB%E5%AD%98%E5%82%A8%E5%99%A8\n",
      "厘米  url:  /item/%E5%8E%98%E7%B1%B3\n",
      "/item/%E7%BA%B3%E7%B1%B3\n",
      "厘米  url:  /item/%E5%85%AC%E5%88%86\n",
      "/item/%E5%8D%83%E7%B1%B3\n",
      "分米  url:  /item/%E5%88%86%E7%B1%B3\n",
      "/item/%E9%95%BF%E5%BA%A6%E5%8D%95%E4%BD%8D\n",
      "分米  url:  /item/%E5%88%86%E7%B1%B3\n",
      "/item/%E6%AF%AB%E7%B1%B3\n",
      "毫米  url:  /item/%E6%AF%AB%E7%B1%B3\n",
      "/item/%E5%8D%83%E7%B1%B3\n",
      "分米  url:  /item/%E5%88%86%E7%B1%B3\n",
      "/item/%E4%B8%80%E7%B1%B3\n"
     ]
    }
   ],
   "source": [
    "base_url = 'https://baike.baidu.com'\n",
    "his = ['/item/Python/407313']\n",
    "for i in range(20):\n",
    "    url = base_url + his[-1]\n",
    "\n",
    "    html = urlopen(url).read().decode('utf-8')\n",
    "    soup = BeautifulSoup(html, features='lxml')\n",
    "    print(soup.find('h1').get_text(), ' url: ', his[-1])\n",
    "\n",
    "    sub_urls = soup.find_all('a', {'target': '_blank', 'href': re.compile(\"/item/(%.{2})+$\")})\n",
    "    # print(sub_urls)\n",
    "    if len(sub_urls) != 0:\n",
    "        his.append(random.sample(sub_urls, 1)[0]['href'])\n",
    "        print(random.sample(sub_urls, 1)[0]['href'])\n",
    "    else:\n",
    "        his.pop()\n",
    "#print(his)"
   ]
  },
  {
   "cell_type": "code",
   "execution_count": null,
   "metadata": {},
   "outputs": [],
   "source": []
  }
 ],
 "metadata": {
  "kernelspec": {
   "display_name": "Python 3",
   "language": "python",
   "name": "python3"
  },
  "language_info": {
   "codemirror_mode": {
    "name": "ipython",
    "version": 3
   },
   "file_extension": ".py",
   "mimetype": "text/x-python",
   "name": "python",
   "nbconvert_exporter": "python",
   "pygments_lexer": "ipython3",
   "version": "3.6.5"
  },
  "widgets": {
   "state": {},
   "version": "1.1.2"
  }
 },
 "nbformat": 4,
 "nbformat_minor": 2
}
