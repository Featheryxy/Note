{
 "cells": [
  {
   "cell_type": "raw",
   "metadata": {},
   "source": [
    "编译型： 源代码经过编译器编译处理，生成目标机械码，就是机器能直接运行的二进制代码，下次运行时无需重新编译。不过只针对特定的cpu体系，这些目标代码只能在特定的平台执行，如果这个程序需要在另一种cpu上面运行，这个代码就必须重新编译。所以不具备可移植型，但是执行速度快，如C, C++\n",
    "\n",
    "解释型：代码运行期间逐行翻译成目标机械码，下次执行时，还是需要进行解释\n",
    "\n",
    "Python: Python代码首先会编译一个字节码文件，再由虚拟机逐行解释，把每一行字节码代码翻译成目标指令给CPU执行\n",
    "\n",
    "动态编程语言：在运行时可以改变其结构的语言\n",
    "鸭子类型：如果走起来像鸭子，叫起来也像鸭子，那么就是鸭子\n",
    "        if it walks like a duck and quacks like a duck, it must be a duck"
   ]
  }
 ],
 "metadata": {
  "kernelspec": {
   "display_name": "Python 3",
   "language": "python",
   "name": "python3"
  },
  "language_info": {
   "codemirror_mode": {
    "name": "ipython",
    "version": 3
   },
   "file_extension": ".py",
   "mimetype": "text/x-python",
   "name": "python",
   "nbconvert_exporter": "python",
   "pygments_lexer": "ipython3",
   "version": "3.7.1"
  }
 },
 "nbformat": 4,
 "nbformat_minor": 2
}
