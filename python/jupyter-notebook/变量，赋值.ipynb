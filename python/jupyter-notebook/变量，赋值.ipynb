{
 "cells": [
  {
   "cell_type": "raw",
   "metadata": {},
   "source": [
    "C语音： 给变量赋值，信息都在变量中\n",
    "Python： 给对象贴标签， 信息都在对象中\n",
    "\n",
    "开辟了两个空间a, b\n",
    "int a = 1\n",
    "int b = a\n",
    "\n",
    "开辟了一个空间存储1，给1贴上a标签\n",
    "a = 1 \n",
    "b = a\n"
   ]
  },
  {
   "cell_type": "code",
   "execution_count": null,
   "metadata": {},
   "outputs": [],
   "source": []
  }
 ],
 "metadata": {
  "kernelspec": {
   "display_name": "Python 3",
   "language": "python",
   "name": "python3"
  },
  "language_info": {
   "codemirror_mode": {
    "name": "ipython",
    "version": 3
   },
   "file_extension": ".py",
   "mimetype": "text/x-python",
   "name": "python",
   "nbconvert_exporter": "python",
   "pygments_lexer": "ipython3",
   "version": "3.7.1"
  }
 },
 "nbformat": 4,
 "nbformat_minor": 2
}
