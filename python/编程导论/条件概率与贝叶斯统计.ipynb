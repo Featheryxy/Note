{
 "cells": [
  {
   "cell_type": "code",
   "execution_count": 6,
   "metadata": {},
   "outputs": [],
   "source": [
    "import random"
   ]
  },
  {
   "cell_type": "code",
   "execution_count": 2,
   "metadata": {},
   "outputs": [],
   "source": [
    "def calcBayes(priorA, probBifA, probB):\n",
    "    \"\"\"priorA： A独立于B时的初始概率估计值\n",
    "    probBifA： A为真时， B的概率估计值\n",
    "    probB： B的概率估计值\n",
    "    返回priorA*probBifA/probB\"\"\"\n",
    "    \n",
    "    return priorA*probBifA/probB"
   ]
  },
  {
   "cell_type": "raw",
   "metadata": {},
   "source": [
    "A类型的骰子掷出6的概率是1/5， B类型的骰子掷出6的概率是1/6， C类型的骰子掷出6的概率是1/7。把手伸进袋子，抓出1个骰子，并估计这个骰子是A类型的概率。甚至不需要很多概率知识你就可以知道，这个概率的最优估计值是1/3。然后，掷两次骰子，并根据结果修正你的估计。如果每次都掷出6，那么很明显这个骰子是A类型的可能性要更大一些。那么这个更大的可能性是多少呢？"
   ]
  },
  {
   "cell_type": "code",
   "execution_count": 3,
   "metadata": {},
   "outputs": [
    {
     "name": "stdout",
     "output_type": "stream",
     "text": [
      "Probability of type A = 0.3925\n",
      "Probability of type A = 0.4622\n"
     ]
    }
   ],
   "source": [
    "priorA = 1/3\n",
    "prob6ifA = 1/5\n",
    "prob6 = (1/5 + 1/6 + 1/7)/3\n",
    "\n",
    "# 两次掷出6\n",
    "postA = calcBayes(priorA, prob6ifA, prob6)\n",
    "print('Probability of type A =', round(postA, 4))\n",
    "postA = calcBayes(postA, prob6ifA, prob6)\n",
    "print('Probability of type A =', round(postA, 4))"
   ]
  },
  {
   "cell_type": "code",
   "execution_count": 4,
   "metadata": {},
   "outputs": [
    {
     "name": "stdout",
     "output_type": "stream",
     "text": [
      "Probability of type A = 0.3212\n",
      "Probability of type A = 0.3096\n"
     ]
    }
   ],
   "source": [
    "# 两次没有掷出6\n",
    "\n",
    "postA = calcBayes(priorA, 1 - prob6ifA, 1 - prob6)\n",
    "print('Probability of type A =', round(postA, 4))\n",
    "postA = calcBayes(postA, 1 - prob6ifA, 1 - prob6)\n",
    "print('Probability of type A =', round(postA, 4))"
   ]
  },
  {
   "cell_type": "code",
   "execution_count": 12,
   "metadata": {},
   "outputs": [
    {
     "name": "stdout",
     "output_type": "stream",
     "text": [
      "After 0 rolls. Probability of type A = 0.9\n",
      "After 20 rolls. Probability of type A = 0.5247\n",
      "After 40 rolls. Probability of type A = 0.3737\n",
      "After 60 rolls. Probability of type A = 0.2662\n",
      "After 80 rolls. Probability of type A = 0.2317\n",
      "After 100 rolls. Probability of type A = 0.1351\n",
      "After 120 rolls. Probability of type A = 0.0962\n",
      "After 140 rolls. Probability of type A = 0.0561\n",
      "After 160 rolls. Probability of type A = 0.0327\n",
      "After 180 rolls. Probability of type A = 0.0519\n",
      "After 200 rolls. Probability of type A = 0.037\n"
     ]
    }
   ],
   "source": [
    "numRolls = 200\n",
    "priorA = 0.9\n",
    "postA = priorA\n",
    "for i in range(numRolls+1):\n",
    "    if i%(numRolls//10) == 0:\n",
    "        print('After', i, 'rolls. Probability of type A =', round(postA, 4))\n",
    "    isSix = random.random() <= 1/7 #because die of type C\n",
    "    if isSix:\n",
    "        postA = calcBayes(postA, prob6ifA, prob6)\n",
    "    else:\n",
    "        postA = calcBayes(postA, 1 - prob6ifA, 1 - prob6)"
   ]
  },
  {
   "cell_type": "code",
   "execution_count": null,
   "metadata": {},
   "outputs": [],
   "source": []
  }
 ],
 "metadata": {
  "kernelspec": {
   "display_name": "Python 3",
   "language": "python",
   "name": "python3"
  },
  "language_info": {
   "codemirror_mode": {
    "name": "ipython",
    "version": 3
   },
   "file_extension": ".py",
   "mimetype": "text/x-python",
   "name": "python",
   "nbconvert_exporter": "python",
   "pygments_lexer": "ipython3",
   "version": "3.6.5"
  }
 },
 "nbformat": 4,
 "nbformat_minor": 2
}
