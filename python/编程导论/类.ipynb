{
 "cells": [
  {
   "cell_type": "markdown",
   "metadata": {},
   "source": [
    "## 1. 类"
   ]
  },
  {
   "cell_type": "code",
   "execution_count": 1,
   "metadata": {},
   "outputs": [],
   "source": [
    "import datetime\n",
    "\n",
    "class Person(object):\n",
    "    def __init__(self, name):\n",
    "        \"\"\"创建一个人\"\"\"\n",
    "        self.name = name\n",
    "        try:\n",
    "            lastBlank = name.rindex(' ')\n",
    "            self.lastName = name[lastBlank+1:]\n",
    "        except:\n",
    "            self.lastName = name\n",
    "            self.birthday = None\n",
    "            \n",
    "    def getName(self):\n",
    "        \"\"\"返回self的全名\"\"\"\n",
    "        return self.name\n",
    "    \n",
    "    def getLastName(self):\n",
    "        \"\"\"返回self的姓\"\"\"\n",
    "        return self.lastName\n",
    "    \n",
    "    def setBirthday(self, birthdate):\n",
    "        \"\"\"假设birthday是datetime.date类型\n",
    "        将self的生日设置为birthday\"\"\"\n",
    "        self.birthday = birthdate\n",
    "        \n",
    "    def getAge(self):\n",
    "        \"\"\"返回self的当前年龄，用日表示\"\"\"\n",
    "        if self.birthday == None:\n",
    "            raise ValueError\n",
    "        return (datetime.date.today() - self.birthday).days\n",
    "\n",
    "    def __lt__(self, other):\n",
    "        \"\"\"如果self按字母顺序位于other之前，则返回True，否则返回False。\n",
    "        首先按照姓进行比较，如果姓相同，就按照全名比较\"\"\"\n",
    "\n",
    "        if self.lastName == other.lastName:\n",
    "            #  self.name < other.name 是 self.name.__lt__(other.name)\n",
    "            return self.name < other.name\n",
    "        return self.lastName < other.lastName\n",
    "\n",
    "    # 执行print命令时，会自动调用与待输出对象相关联的__str__方法\n",
    "    # print(类的对象)，打印出__str__中的内容\n",
    "    def __str__(self):\n",
    "        \"\"\"返回self的全名\"\"\"\n",
    "        return self.name"
   ]
  },
  {
   "cell_type": "code",
   "execution_count": 2,
   "metadata": {},
   "outputs": [
    {
     "name": "stdout",
     "output_type": "stream",
     "text": [
      "Obama\n",
      "Barack Hussein Obama is 21033 days old\n"
     ]
    }
   ],
   "source": [
    "me = Person('Michael Guttag')\n",
    "him = Person('Barack Hussein Obama')\n",
    "her = Person('Madonna')\n",
    "print(him.getLastName())\n",
    "\n",
    "him.setBirthday(datetime.date(1961, 8, 4))\n",
    "her.setBirthday(datetime.date(1958, 8, 16))\n",
    "print(him.getName(), 'is', him.getAge(), 'days old')"
   ]
  },
  {
   "cell_type": "markdown",
   "metadata": {},
   "source": [
    "## 2. 继承"
   ]
  },
  {
   "cell_type": "code",
   "execution_count": 11,
   "metadata": {},
   "outputs": [],
   "source": [
    "class MITPerson(Person):\n",
    "    nextIdNum = 0 #identification number\n",
    "    def __init__(self, name):\n",
    "        Person.__init__(self, name)\n",
    "        self.idNum = MITPerson.nextIdNum\n",
    "        MITPerson.nextIdNum += 1\n",
    "        \n",
    "    def getIdNum(self):\n",
    "        return self.idNum\n",
    "    \n",
    "    def isStudent(self):\n",
    "        return isinstance(self, Student)\n",
    "    \n",
    "    def __lt__(self, other):\n",
    "        return self.idNum < other.idNum"
   ]
  },
  {
   "cell_type": "code",
   "execution_count": 4,
   "metadata": {},
   "outputs": [
    {
     "name": "stdout",
     "output_type": "stream",
     "text": [
      "Barbara Beaver's id number is 0\n"
     ]
    }
   ],
   "source": [
    "p1 = MITPerson('Barbara Beaver')\n",
    "print(str(p1) + '\\'s id number is ' + str(p1.getIdNum()))"
   ]
  },
  {
   "cell_type": "code",
   "execution_count": 17,
   "metadata": {},
   "outputs": [],
   "source": [
    "p1 = MITPerson('Mark Guttag')\n",
    "p2 = MITPerson('Billy Bob Beaver')\n",
    "p3 = MITPerson('Billy Bob Beaver')\n",
    "p4 = Person('Billy Bob Beaver')"
   ]
  },
  {
   "cell_type": "code",
   "execution_count": 6,
   "metadata": {},
   "outputs": [
    {
     "name": "stdout",
     "output_type": "stream",
     "text": [
      "p1 < p2 = True\n",
      "p3 < p2 = False\n",
      "p4 < p1 = True\n"
     ]
    }
   ],
   "source": [
    "print('p1 < p2 =', p1 < p2)\n",
    "print('p3 < p2 =', p3 < p2)\n",
    "\n",
    "# 调用哪种__lt__方法是由表达式的第一个参数决定的，p4 < p1是p4.__lt__(p1)的简写，\n",
    "# 所以解释器使用与p4的类型Person关联的__lt__方法，按照名字排序\n",
    "\n",
    "print('p4 < p1 =', p4 < p1)"
   ]
  },
  {
   "cell_type": "markdown",
   "metadata": {},
   "source": [
    "## 3. 多重继承"
   ]
  },
  {
   "cell_type": "code",
   "execution_count": 14,
   "metadata": {},
   "outputs": [],
   "source": [
    "class Student(MITPerson):\n",
    "    pass\n",
    "\n",
    "\n",
    "class UG(Student):\n",
    "    def __init__(self, name, classYear):\n",
    "        MITPerson.__init__(self, name)\n",
    "        # super().__init__(name)\n",
    "        self.year = classYear\n",
    "        \n",
    "    def getClass(self):\n",
    "        return self.year\n",
    "    \n",
    "\n",
    "class Grad(Student):\n",
    "    pass"
   ]
  },
  {
   "cell_type": "code",
   "execution_count": 15,
   "metadata": {},
   "outputs": [
    {
     "name": "stdout",
     "output_type": "stream",
     "text": [
      "Buzz Aldrin is a graduate student is True\n",
      "Buzz Aldrin is an undergraduate student is False\n"
     ]
    }
   ],
   "source": [
    "p5 = Grad('Buzz Aldrin')\n",
    "p6 = UG('Billy Beaver', 1984)\n",
    "print(p5, 'is a graduate student is', type(p5) == Grad)\n",
    "print(p5, 'is an undergraduate student is', type(p5) == UG)"
   ]
  },
  {
   "cell_type": "code",
   "execution_count": 18,
   "metadata": {},
   "outputs": [
    {
     "name": "stdout",
     "output_type": "stream",
     "text": [
      "Buzz Aldrin is a student is True\n",
      "Billy Beaver is a student is True\n",
      "Billy Bob Beaver is a student is False\n"
     ]
    }
   ],
   "source": [
    "print(p5, 'is a student is', p5.isStudent())\n",
    "print(p6, 'is a student is', p6.isStudent())\n",
    "\n",
    "# p3 = MITPerson('Billy Bob Beaver')\n",
    "print(p3, 'is a student is', p3.isStudent())"
   ]
  },
  {
   "cell_type": "code",
   "execution_count": 19,
   "metadata": {},
   "outputs": [],
   "source": [
    "class TransferStudent(Student):\n",
    "    def __init__(self, name, fromSchool):\n",
    "        MITPerson.__init__(self, name)\n",
    "        self.fromSchool = fromSchool\n",
    "        \n",
    "    def getOldSchool(self):\n",
    "        return self.fromSchool"
   ]
  },
  {
   "cell_type": "markdown",
   "metadata": {},
   "source": [
    "## 4. 封装与信息隐藏"
   ]
  },
  {
   "cell_type": "code",
   "execution_count": 21,
   "metadata": {},
   "outputs": [],
   "source": [
    "class Grades(object):\n",
    "    def __init__(self):\n",
    "        self.students = []\n",
    "        self.grades = {}\n",
    "        self.isSorted = True\n",
    "        \n",
    "    def addStudent(self, student):\n",
    "        \"\"\"假设student为Student类型\n",
    "            将student添加到成绩册\"\"\"\n",
    "        if student in self.students:\n",
    "            raise ValueError(\"Duplicate student\")\n",
    "        self.students.append(student)\n",
    "        self.grades[student.getIdNum()] = []\n",
    "        self.isSorted = False\n",
    "        \n",
    "    def addGrade(self, student, grade):\n",
    "        \"\"\"假设grade为浮点数\n",
    "           将grade添加到student的成绩列表\"\"\"\n",
    "        try:\n",
    "            self.grades[student.getIdNum()].append(grade)\n",
    "        except:\n",
    "            raise ValueError('Student not in mapping')\n",
    "            \n",
    "    def getGrades(self, student):\n",
    "        \"\"\"返回student的成绩列表\"\"\"\n",
    "        try: #return copy of list of student's grades\n",
    "            return self.grades[student.getIdNum()][:]\n",
    "        except:\n",
    "            raise ValueError('Student not in mapping')\n",
    "            \n",
    "    def getStudents(self):\n",
    "        \"\"\"返回成绩册中排好序的成绩列表\"\"\"\n",
    "        if not self.isSorted:\n",
    "            self.students.sort()\n",
    "            self.isSorted = True\n",
    "        return self.students[:]#返回一个学生列表的副本"
   ]
  },
  {
   "cell_type": "code",
   "execution_count": 24,
   "metadata": {},
   "outputs": [
    {
     "name": "stdout",
     "output_type": "stream",
     "text": [
      "\n",
      "Jane Doe's mean grade is 75.0\n",
      "John Doe's mean grade is 75.0\n",
      "David Henry has no grades\n",
      "Billy Buckner's mean grade is 50.0\n",
      "Bucky F. Dent's mean grade is 87.5\n"
     ]
    }
   ],
   "source": [
    "def gradeReport(course):\n",
    "    \"\"\"假设course是Grades类型\"\"\"\n",
    "    report = ''\n",
    "    for s in course.getStudents():\n",
    "        tot = 0.0\n",
    "        numGrades = 0\n",
    "        for g in course.getGrades(s):\n",
    "            tot += g\n",
    "            numGrades += 1\n",
    "        try:\n",
    "            average = tot/numGrades\n",
    "            report = report + '\\n'\\\n",
    "            + str(s) + '\\'s mean grade is ' + str(average)\n",
    "        except ZeroDivisionError:\n",
    "            report = report + '\\n'\\\n",
    "            + str(s) + ' has no grades'\n",
    "    return report\n",
    "\n",
    "\n",
    "ug1 = UG('Jane Doe', 2014)\n",
    "ug2 = UG('John Doe', 2015)\n",
    "ug3 = UG('David Henry', 2003)\n",
    "\n",
    "g1 = Grad('Billy Buckner')\n",
    "g2 = Grad('Bucky F. Dent')\n",
    "\n",
    "sixHundred = Grades()\n",
    "sixHundred.addStudent(ug1)\n",
    "sixHundred.addStudent(ug2)\n",
    "sixHundred.addStudent(g1)\n",
    "sixHundred.addStudent(g2)\n",
    "for s in sixHundred.getStudents():\n",
    "    sixHundred.addGrade(s, 75)\n",
    "sixHundred.addGrade(g1, 25)\n",
    "sixHundred.addGrade(g2, 100)\n",
    "sixHundred.addStudent(ug3)\n",
    "print(gradeReport(sixHundred))"
   ]
  },
  {
   "cell_type": "markdown",
   "metadata": {},
   "source": [
    "## 5. 封装与信息隐藏"
   ]
  },
  {
   "cell_type": "raw",
   "metadata": {},
   "source": [
    "当一个属性的名称以/__开头但不以/_/_结束时，这个属性在类外就是不可见的"
   ]
  },
  {
   "cell_type": "code",
   "execution_count": 26,
   "metadata": {},
   "outputs": [],
   "source": [
    "class infoHiding(object):\n",
    "    def __init__(self):\n",
    "        self.visible = 'Look at me'\n",
    "        self.__alsoVisible__ = 'Look at me too'\n",
    "        # 类的私有变量\n",
    "        self.__invisible = 'Don\\'t look at me directly'\n",
    "        \n",
    "    def printVisible(self):\n",
    "        print(self.visible)\n",
    "        \n",
    "    # 使用方法可以访问类的私有变量\n",
    "    def printInvisible(self):\n",
    "        print(self.__invisible)\n",
    "        \n",
    "    # 类的私有方法\n",
    "    def __printInvisible(self):\n",
    "        print(self.__invisible)\n",
    "        \n",
    "    def __printInvisible__(self):\n",
    "        print(self.__invisible)"
   ]
  },
  {
   "cell_type": "code",
   "execution_count": 27,
   "metadata": {},
   "outputs": [
    {
     "name": "stdout",
     "output_type": "stream",
     "text": [
      "Look at me\n",
      "Look at me too\n"
     ]
    },
    {
     "ename": "AttributeError",
     "evalue": "'infoHiding' object has no attribute '__invisible'",
     "output_type": "error",
     "traceback": [
      "\u001b[1;31m---------------------------------------------------------------------------\u001b[0m",
      "\u001b[1;31mAttributeError\u001b[0m                            Traceback (most recent call last)",
      "\u001b[1;32m<ipython-input-27-e6f2c520afe5>\u001b[0m in \u001b[0;36m<module>\u001b[1;34m()\u001b[0m\n\u001b[0;32m      2\u001b[0m \u001b[0mprint\u001b[0m\u001b[1;33m(\u001b[0m\u001b[0mtest\u001b[0m\u001b[1;33m.\u001b[0m\u001b[0mvisible\u001b[0m\u001b[1;33m)\u001b[0m\u001b[1;33m\u001b[0m\u001b[0m\n\u001b[0;32m      3\u001b[0m \u001b[0mprint\u001b[0m\u001b[1;33m(\u001b[0m\u001b[0mtest\u001b[0m\u001b[1;33m.\u001b[0m\u001b[0m__alsoVisible__\u001b[0m\u001b[1;33m)\u001b[0m\u001b[1;33m\u001b[0m\u001b[0m\n\u001b[1;32m----> 4\u001b[1;33m \u001b[0mprint\u001b[0m\u001b[1;33m(\u001b[0m\u001b[0mtest\u001b[0m\u001b[1;33m.\u001b[0m\u001b[0m__invisible\u001b[0m\u001b[1;33m)\u001b[0m\u001b[1;33m\u001b[0m\u001b[0m\n\u001b[0m",
      "\u001b[1;31mAttributeError\u001b[0m: 'infoHiding' object has no attribute '__invisible'"
     ]
    }
   ],
   "source": [
    "test = infoHiding()\n",
    "print(test.visible)\n",
    "print(test.__alsoVisible__)\n",
    "print(test.__invisible)"
   ]
  },
  {
   "cell_type": "code",
   "execution_count": 28,
   "metadata": {},
   "outputs": [
    {
     "name": "stdout",
     "output_type": "stream",
     "text": [
      "Don't look at me directly\n",
      "Don't look at me directly\n"
     ]
    },
    {
     "ename": "AttributeError",
     "evalue": "'infoHiding' object has no attribute '__printInvisible'",
     "output_type": "error",
     "traceback": [
      "\u001b[1;31m---------------------------------------------------------------------------\u001b[0m",
      "\u001b[1;31mAttributeError\u001b[0m                            Traceback (most recent call last)",
      "\u001b[1;32m<ipython-input-28-75c1a3b1a848>\u001b[0m in \u001b[0;36m<module>\u001b[1;34m()\u001b[0m\n\u001b[0;32m      2\u001b[0m \u001b[0mtest\u001b[0m\u001b[1;33m.\u001b[0m\u001b[0mprintInvisible\u001b[0m\u001b[1;33m(\u001b[0m\u001b[1;33m)\u001b[0m\u001b[1;33m\u001b[0m\u001b[0m\n\u001b[0;32m      3\u001b[0m \u001b[0mtest\u001b[0m\u001b[1;33m.\u001b[0m\u001b[0m__printInvisible__\u001b[0m\u001b[1;33m(\u001b[0m\u001b[1;33m)\u001b[0m\u001b[1;33m\u001b[0m\u001b[0m\n\u001b[1;32m----> 4\u001b[1;33m \u001b[0mtest\u001b[0m\u001b[1;33m.\u001b[0m\u001b[0m__printInvisible\u001b[0m\u001b[1;33m(\u001b[0m\u001b[1;33m)\u001b[0m\u001b[1;33m\u001b[0m\u001b[0m\n\u001b[0m",
      "\u001b[1;31mAttributeError\u001b[0m: 'infoHiding' object has no attribute '__printInvisible'"
     ]
    }
   ],
   "source": [
    "test = infoHiding()\n",
    "test.printInvisible()\n",
    "test.__printInvisible__()\n",
    "test.__printInvisible()"
   ]
  },
  {
   "cell_type": "code",
   "execution_count": 29,
   "metadata": {},
   "outputs": [
    {
     "ename": "AttributeError",
     "evalue": "'subClass' object has no attribute '_subClass__invisible'",
     "output_type": "error",
     "traceback": [
      "\u001b[1;31m---------------------------------------------------------------------------\u001b[0m",
      "\u001b[1;31mAttributeError\u001b[0m                            Traceback (most recent call last)",
      "\u001b[1;32m<ipython-input-29-7eaecfeb951c>\u001b[0m in \u001b[0;36m<module>\u001b[1;34m()\u001b[0m\n\u001b[0;32m      3\u001b[0m         \u001b[0mprint\u001b[0m\u001b[1;33m(\u001b[0m\u001b[1;34m'from subclass'\u001b[0m\u001b[1;33m,\u001b[0m \u001b[0mself\u001b[0m\u001b[1;33m.\u001b[0m\u001b[0m__invisible\u001b[0m\u001b[1;33m)\u001b[0m\u001b[1;33m\u001b[0m\u001b[0m\n\u001b[0;32m      4\u001b[0m \u001b[1;33m\u001b[0m\u001b[0m\n\u001b[1;32m----> 5\u001b[1;33m \u001b[0mtestSub\u001b[0m \u001b[1;33m=\u001b[0m \u001b[0msubClass\u001b[0m\u001b[1;33m(\u001b[0m\u001b[1;33m)\u001b[0m\u001b[1;33m\u001b[0m\u001b[0m\n\u001b[0m",
      "\u001b[1;32m<ipython-input-29-7eaecfeb951c>\u001b[0m in \u001b[0;36m__init__\u001b[1;34m(self)\u001b[0m\n\u001b[0;32m      1\u001b[0m \u001b[1;32mclass\u001b[0m \u001b[0msubClass\u001b[0m\u001b[1;33m(\u001b[0m\u001b[0minfoHiding\u001b[0m\u001b[1;33m)\u001b[0m\u001b[1;33m:\u001b[0m\u001b[1;33m\u001b[0m\u001b[0m\n\u001b[0;32m      2\u001b[0m     \u001b[1;32mdef\u001b[0m \u001b[0m__init__\u001b[0m\u001b[1;33m(\u001b[0m\u001b[0mself\u001b[0m\u001b[1;33m)\u001b[0m\u001b[1;33m:\u001b[0m\u001b[1;33m\u001b[0m\u001b[0m\n\u001b[1;32m----> 3\u001b[1;33m         \u001b[0mprint\u001b[0m\u001b[1;33m(\u001b[0m\u001b[1;34m'from subclass'\u001b[0m\u001b[1;33m,\u001b[0m \u001b[0mself\u001b[0m\u001b[1;33m.\u001b[0m\u001b[0m__invisible\u001b[0m\u001b[1;33m)\u001b[0m\u001b[1;33m\u001b[0m\u001b[0m\n\u001b[0m\u001b[0;32m      4\u001b[0m \u001b[1;33m\u001b[0m\u001b[0m\n\u001b[0;32m      5\u001b[0m \u001b[0mtestSub\u001b[0m \u001b[1;33m=\u001b[0m \u001b[0msubClass\u001b[0m\u001b[1;33m(\u001b[0m\u001b[1;33m)\u001b[0m\u001b[1;33m\u001b[0m\u001b[0m\n",
      "\u001b[1;31mAttributeError\u001b[0m: 'subClass' object has no attribute '_subClass__invisible'"
     ]
    }
   ],
   "source": [
    "class subClass(infoHiding):\n",
    "    def __init__(self):\n",
    "        print('from subclass', self.__invisible)\n",
    "        \n",
    "testSub = subClass()"
   ]
  },
  {
   "cell_type": "markdown",
   "metadata": {},
   "source": [
    "## 6. 生成器"
   ]
  },
  {
   "cell_type": "code",
   "execution_count": 31,
   "metadata": {},
   "outputs": [],
   "source": [
    "def getStudents(self):\n",
    "    \"\"\"按字母顺序每次返回成绩册中的一个学生in alphabetical order\"\"\"\n",
    "    if not self.isSorted:\n",
    "        self.students.sort()\n",
    "        self.isSorted = True\n",
    "    for s in self.students:\n",
    "        yield s"
   ]
  },
  {
   "cell_type": "code",
   "execution_count": 32,
   "metadata": {},
   "outputs": [
    {
     "ename": "NameError",
     "evalue": "name 'book' is not defined",
     "output_type": "error",
     "traceback": [
      "\u001b[1;31m---------------------------------------------------------------------------\u001b[0m",
      "\u001b[1;31mNameError\u001b[0m                                 Traceback (most recent call last)",
      "\u001b[1;32m<ipython-input-32-cd474c60751b>\u001b[0m in \u001b[0;36m<module>\u001b[1;34m()\u001b[0m\n\u001b[0;32m      1\u001b[0m \u001b[0mook\u001b[0m \u001b[1;33m=\u001b[0m \u001b[0mGrades\u001b[0m\u001b[1;33m(\u001b[0m\u001b[1;33m)\u001b[0m\u001b[1;33m\u001b[0m\u001b[0m\n\u001b[1;32m----> 2\u001b[1;33m \u001b[0mbook\u001b[0m\u001b[1;33m.\u001b[0m\u001b[0maddStudent\u001b[0m\u001b[1;33m(\u001b[0m\u001b[0mGrad\u001b[0m\u001b[1;33m(\u001b[0m\u001b[1;34m'Julie'\u001b[0m\u001b[1;33m)\u001b[0m\u001b[1;33m)\u001b[0m\u001b[1;33m\u001b[0m\u001b[0m\n\u001b[0m\u001b[0;32m      3\u001b[0m \u001b[0mbook\u001b[0m\u001b[1;33m.\u001b[0m\u001b[0maddStudent\u001b[0m\u001b[1;33m(\u001b[0m\u001b[0mGrad\u001b[0m\u001b[1;33m(\u001b[0m\u001b[1;34m'Charlie'\u001b[0m\u001b[1;33m)\u001b[0m\u001b[1;33m)\u001b[0m\u001b[1;33m\u001b[0m\u001b[0m\n\u001b[0;32m      4\u001b[0m \u001b[1;32mfor\u001b[0m \u001b[0ms\u001b[0m \u001b[1;32min\u001b[0m \u001b[0mbook\u001b[0m\u001b[1;33m.\u001b[0m\u001b[0mgetStudents\u001b[0m\u001b[1;33m(\u001b[0m\u001b[1;33m)\u001b[0m\u001b[1;33m:\u001b[0m\u001b[1;33m\u001b[0m\u001b[0m\n\u001b[0;32m      5\u001b[0m     \u001b[0mprint\u001b[0m\u001b[1;33m(\u001b[0m\u001b[0ms\u001b[0m\u001b[1;33m)\u001b[0m\u001b[1;33m\u001b[0m\u001b[0m\n",
      "\u001b[1;31mNameError\u001b[0m: name 'book' is not defined"
     ]
    }
   ],
   "source": [
    "ook = Grades()\n",
    "book.addStudent(Grad('Julie'))\n",
    "book.addStudent(Grad('Charlie'))\n",
    "for s in book.getStudents():\n",
    "    print(s)"
   ]
  },
  {
   "cell_type": "code",
   "execution_count": null,
   "metadata": {},
   "outputs": [],
   "source": []
  }
 ],
 "metadata": {
  "kernelspec": {
   "display_name": "Python 3",
   "language": "python",
   "name": "python3"
  },
  "language_info": {
   "codemirror_mode": {
    "name": "ipython",
    "version": 3
   },
   "file_extension": ".py",
   "mimetype": "text/x-python",
   "name": "python",
   "nbconvert_exporter": "python",
   "pygments_lexer": "ipython3",
   "version": "3.6.5"
  }
 },
 "nbformat": 4,
 "nbformat_minor": 2
}
