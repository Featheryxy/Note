{
 "cells": [
  {
   "cell_type": "markdown",
   "metadata": {},
   "source": [
    "## 1. 帕斯卡问题\n",
    "- 连续掷一对骰子24次得到两个6”这个赌注是否有利可图"
   ]
  },
  {
   "cell_type": "code",
   "execution_count": 1,
   "metadata": {},
   "outputs": [],
   "source": [
    "import random\n",
    "import numpy as np\n"
   ]
  },
  {
   "cell_type": "code",
   "execution_count": 2,
   "metadata": {},
   "outputs": [],
   "source": [
    "def rollDie():\n",
    "    return random.choice(list(range(1, 7)))\n",
    "\n",
    "\n",
    "def checkPasscal(numTrials):\n",
    "    newWins = 0\n",
    "    for i in range(numTrials):\n",
    "        for j in range(24):\n",
    "            d1 = rollDie()\n",
    "            d2 = rollDie()\n",
    "            if d1 == 6 and d2 == 6:\n",
    "                newWins += 1\n",
    "                break\n",
    "        \n",
    "    print('newWins = {}, numTrials = {}'.format(newWins, numTrials))\n",
    "    print('Probability of winning = ', newWins/numTrials)"
   ]
  },
  {
   "cell_type": "code",
   "execution_count": 3,
   "metadata": {},
   "outputs": [
    {
     "data": {
      "text/plain": [
       "0.5085961238690966"
      ]
     },
     "execution_count": 3,
     "metadata": {},
     "output_type": "execute_result"
    }
   ],
   "source": [
    "(1-(1/6)*(1/6))**24  # 连续24次投掷都没有掷出两个6的概率是"
   ]
  },
  {
   "cell_type": "code",
   "execution_count": 4,
   "metadata": {
    "scrolled": true
   },
   "outputs": [
    {
     "name": "stdout",
     "output_type": "stream",
     "text": [
      "newWins = 490701, numTrials = 1000000\n",
      "Probability of winning =  0.490701\n"
     ]
    }
   ],
   "source": [
    "checkPasscal(1000000) # 连续掷一对骰子24次得到两个6的概率是"
   ]
  },
  {
   "cell_type": "markdown",
   "metadata": {},
   "source": [
    "## 2. 过线还是不过线\n",
    "- 过线：如果初掷是“自然点”（ 7或11），那么掷手获胜；如果初掷是“垃圾点”（ 2、 3或12），那么掷手失败。如果掷出其他数字，这个数字就成为“点数”，掷手继续掷骰子。如果掷手在掷出7之前掷出这个点数，那么掷手获胜，否则掷手失败。\n",
    "- 不过线：如果初掷是7或11，那么掷手失败；如果初掷是2或3，那么掷手获胜；如果初掷是12，则是平局（赌博的行话称为push）。如果掷出其他数字，那么这个数字成为“点数”，掷手继续掷骰子。如果掷手在掷出这个点数之前掷出7，那么掷手获胜，否则掷手失败。"
   ]
  },
  {
   "cell_type": "markdown",
   "metadata": {},
   "source": [
    "## 4. 求pi的值"
   ]
  },
  {
   "cell_type": "code",
   "execution_count": 10,
   "metadata": {},
   "outputs": [
    {
     "name": "stdout",
     "output_type": "stream",
     "text": [
      "Est. = 3.14092, Std. dev. = 0.05083, Needles = 1000\n",
      "Est. = 3.13896, Std. dev. = 0.0384, Needles = 2000\n",
      "Est. = 3.14234, Std. dev. = 0.0255, Needles = 4000\n",
      "Est. = 3.14284, Std. dev. = 0.01794, Needles = 8000\n",
      "Est. = 3.14019, Std. dev. = 0.01175, Needles = 16000\n",
      "Est. = 3.14193, Std. dev. = 0.00909, Needles = 32000\n",
      "Est. = 3.14109, Std. dev. = 0.00681, Needles = 64000\n",
      "Est. = 3.14205, Std. dev. = 0.00491, Needles = 128000\n"
     ]
    },
    {
     "data": {
      "text/plain": [
       "3.1420456249999984"
      ]
     },
     "execution_count": 10,
     "metadata": {},
     "output_type": "execute_result"
    }
   ],
   "source": [
    "def throwNeedles(numNeedles):\n",
    "    inCircle = 0\n",
    "    for Needles in range(1, numNeedles + 1):\n",
    "        x = random.random()\n",
    "        y = random.random()\n",
    "        if (x*x + y*y)**0.5 <= 1:\n",
    "            inCircle += 1\n",
    "    #数出一个1/4圆中的针数，所以要乘以4。\n",
    "    return 4*(inCircle/numNeedles)\n",
    "\n",
    "\n",
    "def getEst(numNeedles, numTrials):\n",
    "    estimates = []\n",
    "    for t in range(numTrials):\n",
    "        piGuess = throwNeedles(numNeedles)\n",
    "        estimates.append(piGuess)\n",
    "    sDev = np.std(estimates)\n",
    "    curEst = sum(estimates)/len(estimates)\n",
    "    print('Est. =', str(round(curEst, 5)) + ',',\n",
    "        'Std. dev. =', str(round(sDev, 5)) + ',',\n",
    "        'Needles =', numNeedles)\n",
    "    return (curEst, sDev)\n",
    "\n",
    "\n",
    "def estPi(precision, numTrials):\n",
    "    numNeedles = 1000\n",
    "    sDev = precision\n",
    "    while sDev > precision/1.96:\n",
    "        curEst, sDev = getEst(numNeedles, numTrials)\n",
    "        numNeedles *= 2\n",
    "    return curEst\n",
    "\n",
    "\n",
    "estPi(0.01, 100)"
   ]
  },
  {
   "cell_type": "code",
   "execution_count": null,
   "metadata": {},
   "outputs": [],
   "source": []
  }
 ],
 "metadata": {
  "kernelspec": {
   "display_name": "Python 3",
   "language": "python",
   "name": "python3"
  },
  "language_info": {
   "codemirror_mode": {
    "name": "ipython",
    "version": 3
   },
   "file_extension": ".py",
   "mimetype": "text/x-python",
   "name": "python",
   "nbconvert_exporter": "python",
   "pygments_lexer": "ipython3",
   "version": "3.6.5"
  }
 },
 "nbformat": 4,
 "nbformat_minor": 2
}
