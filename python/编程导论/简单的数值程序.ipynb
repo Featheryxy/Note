{
 "cells": [
  {
   "cell_type": "markdown",
   "metadata": {},
   "source": [
    "## 1. 穷举法求立方根"
   ]
  },
  {
   "cell_type": "markdown",
   "metadata": {},
   "source": [
    "### 1. while"
   ]
  },
  {
   "cell_type": "code",
   "execution_count": 10,
   "metadata": {},
   "outputs": [
    {
     "name": "stdout",
     "output_type": "stream",
     "text": [
      "Cube root of 27 is 3\n"
     ]
    }
   ],
   "source": [
    "# x = int(input('Enter an integer: '))\n",
    "x = 27\n",
    "ans = 0\n",
    "\n",
    "while ans**3 < abs(x):\n",
    "    ans += 1\n",
    "\n",
    "if ans**3 != abs(x):\n",
    "    print(x, 'is not a perfect cube')\n",
    "else:\n",
    "    if x < 0:\n",
    "        ans = -ans\n",
    "    print('Cube root of {} is {}'.format(x, ans))"
   ]
  },
  {
   "cell_type": "markdown",
   "metadata": {},
   "source": [
    "### 2. for"
   ]
  },
  {
   "cell_type": "code",
   "execution_count": 11,
   "metadata": {},
   "outputs": [
    {
     "name": "stdout",
     "output_type": "stream",
     "text": [
      "Cube root of 27 is 3\n"
     ]
    }
   ],
   "source": [
    "# x = int(input('Enter an integer：'))\n",
    "x = 27\n",
    "\n",
    "for ans in range(0, abs(x)+1):\n",
    "    if ans ** 3 >= abs(x):\n",
    "        break\n",
    "\n",
    "if ans**3 != abs(x):\n",
    "    print(x, 'is not a perfect cube')\n",
    "else:\n",
    "    if x < 0:\n",
    "        ans = -ans\n",
    "    print('Cube root of {} is {}'.format(x, ans))"
   ]
  },
  {
   "cell_type": "raw",
   "metadata": {},
   "source": [
    "要求用户输入一个整数，然后输出两个整数root和pwr，满足0 < pwr < 6，并且root**pwr等于用户输入的整数。如果不存在这样一对整数，则输出一条消息进行说明"
   ]
  },
  {
   "cell_type": "code",
   "execution_count": null,
   "metadata": {},
   "outputs": [],
   "source": [
    "x = int(input('Enter an integer'))\n",
    "root = 0\n",
    "pwr = 1\n",
    "\n",
    "while root**pwr < abs(x):\n",
    "    root += 1\n",
    "    \n",
    "\n",
    "if root ** pwr != abs(x):\n",
    "    print(x, 'is not a perfect number')\n",
    "else:\n",
    "    print('{} = {}**{}'.format(x, root, pwr))"
   ]
  },
  {
   "cell_type": "markdown",
   "metadata": {},
   "source": [
    "## 2. 近似解"
   ]
  },
  {
   "cell_type": "code",
   "execution_count": 12,
   "metadata": {},
   "outputs": [
    {
     "name": "stdout",
     "output_type": "stream",
     "text": [
      "numGuesses =  351363047\n",
      "351.36304620491023  is close to square root of  123456\n"
     ]
    }
   ],
   "source": [
    "x = 123456\n",
    "epsilon = 0.01\n",
    "step = epsilon ** 3\n",
    "numGuesses = 0\n",
    "ans = 0.0\n",
    "\n",
    "while abs(ans**2 - x) >= epsilon and ans <= x:\n",
    "    ans += step\n",
    "    numGuesses += 1\n",
    "\n",
    "print('numGuesses = ', numGuesses)\n",
    "if abs(ans**2 - x) >= epsilon:\n",
    "    print('Failed on square root of', x)\n",
    "else:\n",
    "    print(ans, ' is close to square root of ', x)"
   ]
  },
  {
   "cell_type": "markdown",
   "metadata": {},
   "source": [
    "## 3. 二分查找求近似平方根"
   ]
  },
  {
   "cell_type": "code",
   "execution_count": 13,
   "metadata": {},
   "outputs": [
    {
     "name": "stdout",
     "output_type": "stream",
     "text": [
      "low =  0.0 high =  25 ans =  12.5\n",
      "low =  0.0 high =  12.5 ans =  6.25\n",
      "low =  0.0 high =  6.25 ans =  3.125\n",
      "low =  3.125 high =  6.25 ans =  4.6875\n",
      "low =  4.6875 high =  6.25 ans =  5.46875\n",
      "low =  4.6875 high =  5.46875 ans =  5.078125\n",
      "low =  4.6875 high =  5.078125 ans =  4.8828125\n",
      "low =  4.8828125 high =  5.078125 ans =  4.98046875\n",
      "low =  4.98046875 high =  5.078125 ans =  5.029296875\n",
      "low =  4.98046875 high =  5.029296875 ans =  5.0048828125\n",
      "low =  4.98046875 high =  5.0048828125 ans =  4.99267578125\n",
      "low =  4.99267578125 high =  5.0048828125 ans =  4.998779296875\n",
      "low =  4.998779296875 high =  5.0048828125 ans =  5.0018310546875\n",
      "numGuesses = 13\n",
      "5.00030517578125 is close to square root of 25\n"
     ]
    }
   ],
   "source": [
    "x = 25\n",
    "epsilon = 0.01\n",
    "numGuesses = 0\n",
    "low = 0.0\n",
    "high = max(1.0, x)\n",
    "ans = (low+high)/2\n",
    "\n",
    "while abs(ans**2 - x) >= epsilon:\n",
    "    print('low = ', low, 'high = ', high, 'ans = ', ans)\n",
    "    numGuesses += 1\n",
    "    if ans**2 > x: \n",
    "        high = ans\n",
    "    else:\n",
    "        low = ans\n",
    "    ans = (low+high)/2\n",
    "\n",
    "print('numGuesses =', numGuesses)\n",
    "print(ans, 'is close to square root of', x)"
   ]
  },
  {
   "cell_type": "markdown",
   "metadata": {},
   "source": [
    "## 4. 牛顿-拉弗森法\n",
    "\n",
    "- 如果存在一个值guess是多项式p的根的近似解，那么guess-p（guess）/p'(guess)就是一个更好的近似解求解x**2 -24 = 0, p' = 2x"
   ]
  },
  {
   "cell_type": "code",
   "execution_count": 14,
   "metadata": {},
   "outputs": [
    {
     "name": "stdout",
     "output_type": "stream",
     "text": [
      "numGuesses = 4\n",
      "Square root of 24 is 4.8989887432139305\n"
     ]
    }
   ],
   "source": [
    "epsilon = 0.01\n",
    "k = 24\n",
    "guess = k/2.0\n",
    "numGuesses = 0\n",
    "\n",
    "while abs(guess**2-k) >= epsilon:\n",
    "    numGuesses += 1\n",
    "    guess = guess - (guess**2-k)/(2*guess)\n",
    "\n",
    "print('numGuesses =', numGuesses)\n",
    "print(\"Square root of {} is {}\".format(k, guess))"
   ]
  },
  {
   "cell_type": "markdown",
   "metadata": {},
   "source": [
    "## 5. 浮点数\n",
    "- 使用==比较两个浮点数会产生不可思议的结果。可以使用abs(x - y) < 0.00001 代替"
   ]
  },
  {
   "cell_type": "code",
   "execution_count": 15,
   "metadata": {},
   "outputs": [
    {
     "name": "stdout",
     "output_type": "stream",
     "text": [
      "0.9999999999999999 is not 1.0\n"
     ]
    }
   ],
   "source": [
    "x = 0.0\n",
    "for i in range(10):\n",
    "    x += 0.1\n",
    "if x == 1.0:\n",
    "    print(x, ' = 1.0')\n",
    "else:\n",
    "    print(x, 'is not 1.0')"
   ]
  },
  {
   "cell_type": "markdown",
   "metadata": {},
   "source": [
    "## 6. 二分查找+"
   ]
  },
  {
   "cell_type": "code",
   "execution_count": 17,
   "metadata": {},
   "outputs": [
    {
     "name": "stdout",
     "output_type": "stream",
     "text": [
      "Test x =  0.25 and power =  1\n",
      "  0.25**1 = 0.25 ~= 0.25\n",
      "Test x =  0.25 and power =  2\n",
      "  0.5**2 = 0.25 ~= 0.25\n",
      "Test x =  0.25 and power =  3\n",
      "  0.6298828125**3 = 0.24990749079734087 ~= 0.25\n",
      "Test x =  -0.25 and power =  1\n",
      "  -0.25**1 = -0.25 ~= -0.25\n",
      "Test x =  -0.25 and power =  2\n",
      "  No root\n",
      "Test x =  -0.25 and power =  3\n",
      "  -0.6298828125**3 = -0.24990749079734087 ~= -0.25\n",
      "Test x =  2 and power =  1\n",
      "  1.999908447265625**1 = 1.999908447265625 ~= 2\n",
      "Test x =  2 and power =  2\n",
      "  1.41424560546875**2 = 2.0000906325876713 ~= 2\n",
      "Test x =  2 and power =  3\n",
      "  1.2599334716796875**3 = 2.000059155646067 ~= 2\n",
      "Test x =  -2 and power =  1\n",
      "  -1.999908447265625**1 = -1.999908447265625 ~= -2\n",
      "Test x =  -2 and power =  2\n",
      "  No root\n",
      "Test x =  -2 and power =  3\n",
      "  -1.2599334716796875**3 = -2.000059155646067 ~= -2\n",
      "Test x =  8 and power =  1\n",
      "  7.999931335449219**1 = 7.999931335449219 ~= 8\n",
      "Test x =  8 and power =  2\n",
      "  2.8284263610839844**2 = 7.99999568007479 ~= 8\n",
      "Test x =  8 and power =  3\n",
      "  2.0000057220458984**3 = 8.000068664747232 ~= 8\n",
      "Test x =  -8 and power =  1\n",
      "  -7.999931335449219**1 = -7.999931335449219 ~= -8\n",
      "Test x =  -8 and power =  2\n",
      "  No root\n",
      "Test x =  -8 and power =  3\n",
      "  -2.0000057220458984**3 = -8.000068664747232 ~= -8\n"
     ]
    }
   ],
   "source": [
    "def findRoot(x, power, epsilon):\n",
    "    # 负数没有偶次方根\n",
    "    if x < 0 and power%2 == 0:\n",
    "        return None\n",
    "    \n",
    "    low = min(-1.0, x)\n",
    "    high = max(1.0, x)\n",
    "    ans = (low + high)/2.0\n",
    "    \n",
    "    while abs(ans**power - x) >= epsilon:\n",
    "        if ans**power >= x:\n",
    "            high = ans\n",
    "        else:\n",
    "            low = ans\n",
    "        ans = (low + high) / 2.0\n",
    "    \n",
    "    return ans\n",
    "\n",
    "\n",
    "def testFindRoot():\n",
    "    epsilon = 0.0001\n",
    "    for x in [0.25, -0.25, 2, -2, 8, -8]:\n",
    "        for power in range(1, 4):\n",
    "            print('Test x = ', str(x), 'and power = ', power)\n",
    "            result = findRoot(x, power, epsilon)\n",
    "            if result:\n",
    "                print('  {}**{} = {} ~= {}'.format(result, power, result**power, x))\n",
    "            else:\n",
    "                print('  No root')    \n",
    "                \n",
    "testFindRoot()"
   ]
  },
  {
   "cell_type": "code",
   "execution_count": null,
   "metadata": {},
   "outputs": [],
   "source": []
  }
 ],
 "metadata": {
  "kernelspec": {
   "display_name": "Python 3",
   "language": "python",
   "name": "python3"
  },
  "language_info": {
   "codemirror_mode": {
    "name": "ipython",
    "version": 3
   },
   "file_extension": ".py",
   "mimetype": "text/x-python",
   "name": "python",
   "nbconvert_exporter": "python",
   "pygments_lexer": "ipython3",
   "version": "3.6.5"
  }
 },
 "nbformat": 4,
 "nbformat_minor": 2
}
