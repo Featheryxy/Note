{
 "cells": [
  {
   "cell_type": "markdown",
   "metadata": {},
   "source": [
    "## 1. 贪婪算法"
   ]
  },
  {
   "cell_type": "code",
   "execution_count": 4,
   "metadata": {},
   "outputs": [],
   "source": [
    "class Item(object):\n",
    "    def __init__(self, n, v, w):\n",
    "        self.name = n\n",
    "        self.value = v\n",
    "        self.weight = w\n",
    "        \n",
    "    def getName(self):\n",
    "        return self.name\n",
    "    \n",
    "    def getValue(self):\n",
    "        return self.value\n",
    "    \n",
    "    def getWeight(self):\n",
    "        return self.weight\n",
    "    \n",
    "    # 当使用print输出对象的时候，只要自己定义了__str__(self)方法，那么就会打印从在这个方法中return的数据\n",
    "    def __str__(self):\n",
    "        result = '<' + self.name + ', ' + str(self.value)\\\n",
    "                    + ', ' + str(self.weight) + '>'\n",
    "        return result\n",
    "    \n",
    "\n",
    "def value(item):\n",
    "    return item.getValue()\n",
    "\n",
    "\n",
    "def weightInverse(item):\n",
    "    return 1.0/item.getWeight()\n",
    "\n",
    "\n",
    "def density(item):\n",
    "    return item.getValue()/item.getWeight()\n",
    "\n",
    "\n",
    "def greedy(items, maxWeight, keyFunction):\n",
    "    \"\"\"假设Items是列表， maxWeight >= 0\n",
    "    keyFunctions将物品元素映射为数值\"\"\"\n",
    "    itemsCopy = sorted(items, key=keyFunction, reverse=True)\n",
    "    result = []\n",
    "    totalValue, totalWeight = 0.0, 0.0\n",
    "    for i in range(len(itemsCopy)):\n",
    "        if (totalWeight + itemsCopy[i].getWeight()) <= maxWeight:\n",
    "            result.append(itemsCopy[i])\n",
    "            totalWeight += itemsCopy[i].getWeight()\n",
    "            totalValue += itemsCopy[i].getValue()\n",
    "    return (result, totalValue)\n",
    "\n",
    "\n",
    "def buildItems():\n",
    "    names = ['clock','painting','radio','vase','book','computer']\n",
    "    values = [175,90,20,50,10,200]\n",
    "    weights = [10,9,4,2,1,20]\n",
    "    Items = []\n",
    "    for i in range(len(values)):\n",
    "        Items.append(Item(names[i], values[i], weights[i]))\n",
    "    return Items\n",
    "\n",
    "\n",
    "def testGreedy(items, maxWeight, keyFunction):\n",
    "    taken, val = greedy(items, maxWeight, keyFunction)\n",
    "    print('Total value of items taken is', val)\n",
    "    for item in taken:\n",
    "        print(' ', item)\n",
    "        \n",
    "        \n",
    "def testGreedys(maxWeight = 20):\n",
    "    items = buildItems()\n",
    "    print('Use greedy by value to fill knapsack of size', maxWeight)\n",
    "    testGreedy(items, maxWeight, value)\n",
    "    print('\\nUse greedy by weight to fill knapsack of size', maxWeight)\n",
    "    testGreedy(items, maxWeight, weightInverse)\n",
    "    print('\\nUse greedy by density to fill knapsack of size', maxWeight)\n",
    "    testGreedy(items, maxWeight, density)"
   ]
  },
  {
   "cell_type": "code",
   "execution_count": 21,
   "metadata": {},
   "outputs": [
    {
     "name": "stdout",
     "output_type": "stream",
     "text": [
      "Use greedy by value to fill knapsack of size 20\n",
      "Total value of items taken is 200.0\n",
      "  <computer, 200, 20>\n",
      "\n",
      "Use greedy by weight to fill knapsack of size 20\n",
      "Total value of items taken is 170.0\n",
      "  <book, 10, 1>\n",
      "  <vase, 50, 2>\n",
      "  <radio, 20, 4>\n",
      "  <painting, 90, 9>\n",
      "\n",
      "Use greedy by density to fill knapsack of size 20\n",
      "Total value of items taken is 255.0\n",
      "  <vase, 50, 2>\n",
      "  <clock, 175, 10>\n",
      "  <book, 10, 1>\n",
      "  <radio, 20, 4>\n"
     ]
    }
   ],
   "source": [
    "testGreedys()"
   ]
  },
  {
   "cell_type": "markdown",
   "metadata": {},
   "source": [
    "## 2. 0/1 背包问题的最优解"
   ]
  },
  {
   "cell_type": "code",
   "execution_count": 6,
   "metadata": {},
   "outputs": [],
   "source": [
    "def getBinaryRep(n, numDigits):\n",
    "\t\"\"\"假设n和numDigits为非负整数\n",
    "\t返回一个长度为numDigits的字符串，为n的二进制表\n",
    "\t示\"\"\"\n",
    "\tresult = ''\n",
    "\twhile n > 0:\n",
    "\t\tresult = str(n%2) + result\n",
    "\t\tn = n//2\n",
    "\tif len(result) > numDigits:\n",
    "\t\traise ValueError('not enough digits')\n",
    "\tfor i in range(numDigits - len(result)):\n",
    "\t\tresult = '0' + result\n",
    "\t\t\n",
    "\treturn result\n",
    "\n",
    "\n",
    "def genPowerset(L):\n",
    "\t\"\"\"假设L是列表\t返回一个列表，包含L中元素所有可能的集合。例如，\n",
    "\t如果\tL=[1, 2]，则返回的列表包含元素[1]、 [2]和[1,\t2]\n",
    "\t\"\"\"\n",
    "\t\n",
    "\tpowerset = []\n",
    "\t\n",
    "\t# 子集的数量是原集合的2的n次\n",
    "\tfor i in range(0, 2**len(L)):\n",
    "\t\tbinStr = getBinaryRep(i, len(L))\n",
    "# \t\tprint(binStr)\n",
    "# \t\tprint('i = ', i)\n",
    "\t\tsubset = []\n",
    "\t\tfor j in range(len(L)):\n",
    "\t\t\tif binStr[j] == '1':\n",
    "\t\t\t\tsubset.append(L[j])\n",
    "\t\tpowerset.append(subset)\n",
    "\treturn powerset"
   ]
  },
  {
   "cell_type": "code",
   "execution_count": 7,
   "metadata": {},
   "outputs": [],
   "source": [
    "def chooseBest(pset, maxWeight, getVal, getWeight):\n",
    "    bestVal = 0.0\n",
    "    bestSet = None\n",
    "    for items in pset:\n",
    "        itemsVal = 0.0\n",
    "        itemsWeight = 0.0\n",
    "        for item in items:\n",
    "            itemsVal += getVal(item)\n",
    "            itemsWeight += getWeight(item)\n",
    "        if itemsWeight <= maxWeight and itemsVal > bestVal:\n",
    "            bestVal = itemsVal\n",
    "            bestSet = items\n",
    "    return (bestSet, bestVal)\n",
    "\n",
    "\n",
    "def testBest(maxWeight = 20):\n",
    "    items = buildItems()\n",
    "    pset = genPowerset(items)\n",
    "    taken, val = chooseBest(pset, maxWeight, Item.getValue,\n",
    "    Item.getWeight)\n",
    "    print('Total value of items taken is', val)\n",
    "    \n",
    "    for item in taken:\n",
    "        print(item)"
   ]
  },
  {
   "cell_type": "code",
   "execution_count": 8,
   "metadata": {},
   "outputs": [
    {
     "name": "stdout",
     "output_type": "stream",
     "text": [
      "Total value of items taken is 275.0\n",
      "<clock, 175, 10>\n",
      "<painting, 90, 9>\n",
      "<book, 10, 1>\n"
     ]
    }
   ],
   "source": [
    "testBest()"
   ]
  },
  {
   "cell_type": "code",
   "execution_count": null,
   "metadata": {},
   "outputs": [],
   "source": []
  }
 ],
 "metadata": {
  "kernelspec": {
   "display_name": "Python 3",
   "language": "python",
   "name": "python3"
  },
  "language_info": {
   "codemirror_mode": {
    "name": "ipython",
    "version": 3
   },
   "file_extension": ".py",
   "mimetype": "text/x-python",
   "name": "python",
   "nbconvert_exporter": "python",
   "pygments_lexer": "ipython3",
   "version": "3.6.5"
  }
 },
 "nbformat": 4,
 "nbformat_minor": 2
}
