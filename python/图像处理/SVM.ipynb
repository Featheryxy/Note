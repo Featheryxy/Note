{
 "cells": [
  {
   "cell_type": "code",
   "execution_count": 1,
   "metadata": {},
   "outputs": [],
   "source": [
    "from sklearn import svm"
   ]
  },
  {
   "cell_type": "code",
   "execution_count": 4,
   "metadata": {},
   "outputs": [],
   "source": [
    "X = [[0, 0], [1, 1]]\n",
    "y = [0, 1]"
   ]
  },
  {
   "cell_type": "code",
   "execution_count": 5,
   "metadata": {},
   "outputs": [
    {
     "data": {
      "text/plain": [
       "SVC(C=1.0, cache_size=200, class_weight=None, coef0=0.0,\n",
       "  decision_function_shape='ovr', degree=3, gamma='auto', kernel='rbf',\n",
       "  max_iter=-1, probability=False, random_state=None, shrinking=True,\n",
       "  tol=0.001, verbose=False)"
      ]
     },
     "execution_count": 5,
     "metadata": {},
     "output_type": "execute_result"
    }
   ],
   "source": [
    "clf = svm.SVC()\n",
    "clf.fit(X,y)"
   ]
  },
  {
   "cell_type": "code",
   "execution_count": 6,
   "metadata": {},
   "outputs": [
    {
     "data": {
      "text/plain": [
       "array([1])"
      ]
     },
     "execution_count": 6,
     "metadata": {},
     "output_type": "execute_result"
    }
   ],
   "source": [
    "clf.predict([[2., 2.]])"
   ]
  },
  {
   "cell_type": "code",
   "execution_count": 7,
   "metadata": {},
   "outputs": [
    {
     "data": {
      "text/plain": [
       "array([[0., 0.],\n",
       "       [1., 1.]])"
      ]
     },
     "execution_count": 7,
     "metadata": {},
     "output_type": "execute_result"
    }
   ],
   "source": [
    "clf.support_vectors_"
   ]
  },
  {
   "cell_type": "code",
   "execution_count": 8,
   "metadata": {},
   "outputs": [
    {
     "name": "stdout",
     "output_type": "stream",
     "text": [
      "Accuracy:\t 0.5\n",
      "Precision:\t 0.6\n",
      "Recall:\t 0.75\n",
      "f1 score:\t 0.6666666666666665\n",
      "F-beta:\n",
      "\n",
      "\tbeta=    0.001\tF-beta=0.600\n",
      "\tbeta=    0.010\tF-beta=0.600\n",
      "\tbeta=    0.100\tF-beta=0.601\n",
      "\tbeta=    1.000\tF-beta=0.667\n",
      "\tbeta=   10.000\tF-beta=0.748\n",
      "\tbeta=  100.000\tF-beta=0.750\n",
      "\tbeta= 1000.000\tF-beta=0.750\n",
      "(array([0. , 0.6]), array([0.  , 0.75]), array([0.        , 0.66666667]), array([2, 4], dtype=int64))\n",
      "             precision    recall  f1-score   support\n",
      "\n",
      "          0       0.00      0.00      0.00         2\n",
      "          1       0.60      0.75      0.67         4\n",
      "\n",
      "avg / total       0.40      0.50      0.44         6\n",
      "\n",
      "===========coding myself function=============\n",
      "precision:99.00%\n",
      "Recall\"0.00%\n",
      "===========sklearn package function============\n",
      "Acc:\t 0.99\n",
      "prediction:\t 0.0\n",
      "recall:\t 0.0\n",
      "F1-score:\t 0.0\n"
     ]
    },
    {
     "name": "stderr",
     "output_type": "stream",
     "text": [
      "F:\\Anaconda3\\lib\\site-packages\\sklearn\\metrics\\classification.py:1135: UndefinedMetricWarning: Precision is ill-defined and being set to 0.0 due to no predicted samples.\n",
      "  'precision', 'predicted', average, warn_for)\n",
      "F:\\Anaconda3\\lib\\site-packages\\sklearn\\metrics\\classification.py:1135: UndefinedMetricWarning: F-score is ill-defined and being set to 0.0 due to no predicted samples.\n",
      "  'precision', 'predicted', average, warn_for)\n"
     ]
    },
    {
     "name": "stdout",
     "output_type": "stream",
     "text": [
      "===========coding myself function=============\n",
      "precision:94.00%\n",
      "Recall\"100.00%\n",
      "===========sklearn package function============\n",
      "Acc:\t 0.94\n",
      "prediction:\t 0.14285714285714285\n",
      "recall:\t 1.0\n",
      "F1-score:\t 0.25\n",
      "===========coding myself function=============\n",
      "precision:99.40%\n",
      "Recall\"100.00%\n",
      "===========sklearn package function============\n",
      "Acc:\t 0.994\n",
      "prediction:\t 0.625\n",
      "recall:\t 1.0\n",
      "F1-score:\t 0.7692307692307693\n",
      "===========coding myself function=============\n",
      "precision:99.40%\n",
      "Recall\"100.00%\n",
      "===========sklearn package function============\n",
      "Acc:\t 0.994\n",
      "prediction:\t 0.625\n",
      "recall:\t 1.0\n",
      "F1-score:\t 0.7692307692307693\n"
     ]
    },
    {
     "data": {
      "text/plain": [
       "<Figure size 1000x1000 with 4 Axes>"
      ]
     },
     "metadata": {},
     "output_type": "display_data"
    }
   ],
   "source": [
    "import numpy as np\n",
    "from sklearn.metrics import accuracy_score\n",
    "from sklearn.metrics import precision_score, recall_score, f1_score, fbeta_score\n",
    "from sklearn.metrics import precision_recall_fscore_support, classification_report\n",
    "from sklearn import svm\n",
    "import matplotlib as mpl\n",
    "import matplotlib.pyplot as plt\n",
    " \n",
    "def R_P():\n",
    "\ty_true = np.array([1, 1, 1, 1, 0, 0])\n",
    "\ty_hat = np.array([1, 0, 1, 1, 1, 1])\n",
    " \n",
    "\tprint('Accuracy:\\t', accuracy_score(y_true, y_hat))\n",
    " \n",
    "\tprecision = precision_score(y_true, y_hat)\n",
    "\tprint('Precision:\\t', precision)\n",
    " \n",
    "\trecall = recall_score(y_true, y_hat)\n",
    "\tprint('Recall:\\t', recall)\n",
    " \n",
    "\tprint('f1 score:\\t', f1_score(y_true, y_hat))\n",
    "\t# print(2*(precision*recall)/(precision + recall))\n",
    " \n",
    "\tprint('F-beta:\\n')\n",
    "\tfor beta in np.logspace(-3, 3, num=7, base=10):\n",
    "\t\tfbeta = fbeta_score(y_true, y_hat, beta=beta)\n",
    "\t\tprint('\\tbeta=%9.3f\\tF-beta=%.3f' % (beta, fbeta))\n",
    " \n",
    "\tprint(precision_recall_fscore_support(y_true, y_hat))\n",
    "\tprint(classification_report(y_true, y_hat))\n",
    " \n",
    "def show_accuracy(a, b):\n",
    "\t# 计算预测值和真实值一样的正确率\n",
    "\tacc = a.ravel() == b.ravel()\n",
    "\tprint('precision:%.2f%%' % ((100*float(acc.sum()))/a.size))\n",
    " \n",
    "def show_recall(y, y_hat):\n",
    "\t# 提取出那个小样本集中的预测和真实一样的正确率\n",
    "\tprint('Recall\"%.2f%%' % (100*float(np.sum(y_hat[y == 1] == 1)) / np.extract(y == 1, y).size))\n",
    " \n",
    " \n",
    "if __name__ == '__main__':\n",
    "\t# 保证每次生成的数据一样\n",
    "\tnp.random.seed(0)\n",
    " \n",
    "\tR_P()\n",
    " \n",
    "\tc1 = 990\n",
    "\tc2 = 10\n",
    "\tN = c1 + c2\n",
    "\tx_c1 = 3*np.random.randn(c1, 2)\n",
    "\tx_c2 = 0.5*np.random.randn(c2, 2) + (4, 4)\n",
    "\tx = np.vstack((x_c1, x_c2))\n",
    "\ty = np.ones(N)\n",
    "\ty[:c1] = -1\n",
    "\t# 显示出大小\n",
    "\ts = np.ones(N) * 30\n",
    "\ts[:c1] = 10\n",
    "\t# 分类器\n",
    "\tclfs = [\n",
    "\t\tsvm.SVC(C=1, kernel='linear'),\n",
    "\t\tsvm.SVC(C=1, kernel='linear', class_weight={-1:1, 1:50}),\n",
    "\t\tsvm.SVC(C=0.8, kernel='rbf', gamma=0.5, class_weight={-1:1, 1:2}),\n",
    "\t\tsvm.SVC(C=0.8, kernel='rbf', gamma=0.5, class_weight={-1:1, 1:10}),\n",
    "\t]\n",
    "\ttitles = 'Linear', 'Linear Weights=50', 'RBF, Weight=2', 'RBF Weights=10'\n",
    " \n",
    "\tx1_min, x1_max = x[:, 0].min(), x[:, 0].max()\n",
    "\tx2_min, x2_max = x[:, 1].min(), x[:, 1].max()\n",
    "\t# 生成网格采样点\n",
    "\tx1, x2 = np.mgrid[x1_min:x1_max:200j, x2_min:x2_max:200j]\n",
    "\t# 测试点\n",
    "\tgrid_test = np.stack((x1.flat, x2.flat), axis=1)\n",
    "\tcm_light = mpl.colors.ListedColormap(['#A0FFA0', '#FFA0A0'])\n",
    "\tcm_dark = mpl.colors.ListedColormap(['g', 'b'])\n",
    " \n",
    "\tplt.figure(figsize=(10, 10), facecolor='w')\n",
    "\tfor i, clf in enumerate(clfs):\n",
    "\t\tclf.fit(x, y)\n",
    "\t\ty_hat = clf.predict(x)\n",
    "\t\tprint('===========coding myself function=============')\n",
    "\t\tshow_accuracy(y, y_hat)\n",
    "\t\tshow_recall(y, y_hat)\n",
    "\t\tprint('===========sklearn package function============')\n",
    "\t\tprint('Acc:\\t', accuracy_score(y, y_hat))\n",
    "\t\tprint('prediction:\\t', precision_score(y, y_hat, pos_label=1))\n",
    "\t\tprint('recall:\\t', recall_score(y, y_hat, pos_label=1))\n",
    "\t\tprint('F1-score:\\t', f1_score(y, y_hat, pos_label=1))\n",
    " \n",
    "\t\t# 开始画图\n",
    "\t\tplt.subplot(2, 2, i+1)\n",
    "\t\tgrid_hat = clf.predict(grid_test)\n",
    "\t\tgrid_hat.shape = x1.shape\n",
    "\t\tplt.pcolormesh(x1, x2, grid_hat, cmap=cm_light, alpha=0.8)\n",
    "\t\tplt.scatter(x[:, 0], x[:, 1], c=y, edgecolor='k', s=s, cmap=cm_dark)\n",
    "\t\tplt.xlim(x1_min, x1_max)\n",
    "\t\tplt.ylim(x2_min, x2_max)\n",
    "\t\tplt.title(titles[i])\n",
    "\t\tplt.grid()\n",
    "\tplt.suptitle('Unbalance Data Handling', fontsize=18)\n",
    "\tplt.tight_layout(2.0)\n",
    "\tplt.subplots_adjust(top=0.92)\n",
    "\tplt.show()"
   ]
  },
  {
   "cell_type": "code",
   "execution_count": null,
   "metadata": {},
   "outputs": [],
   "source": []
  }
 ],
 "metadata": {
  "kernelspec": {
   "display_name": "Python 3",
   "language": "python",
   "name": "python3"
  },
  "language_info": {
   "codemirror_mode": {
    "name": "ipython",
    "version": 3
   },
   "file_extension": ".py",
   "mimetype": "text/x-python",
   "name": "python",
   "nbconvert_exporter": "python",
   "pygments_lexer": "ipython3",
   "version": "3.6.5"
  }
 },
 "nbformat": 4,
 "nbformat_minor": 2
}
